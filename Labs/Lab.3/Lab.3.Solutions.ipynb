{
 "cells": [
  {
   "cell_type": "markdown",
   "metadata": {},
   "source": [
    "# Lab 3\n",
    "\n",
    "In this lab we will become familiar with distributions, histograms, and functional programming. Do not use numpy or any other library for this lab.\n",
    "\n",
    "Before that, lets get setup homework submission and submit your previous lab.  \n",
    "\n",
    "## Working on the Command-line.\n",
    "\n",
    "It is important for you to learn to work on the command line and to be familiar with the Unix environment (e.g. Linux, Mac OS, or Windows Linux Subsystem). We'll go over working on the command-line in detail later in the course.\n",
    "\n",
    "You are required to submit your work in this course via GitHub. Today in class, you will setup everything on the command-line.\n",
    "\n",
    "### Command-line basics\n",
    "\n",
    "There is plenty of material online that will help you figure out how to do various tasks on the command line. Commands you may need to know today:\n",
    "\n",
    "* `ls`: lists the contents of the current directory.\n",
    "* `pwd`: prints the path of the current directory.\n",
    "* `cd <directory>`: changes your current directory to the specified directory.\n",
    "* `cd ..`: changes current directory to the previous directory. Basically steps out of the current directory to the directory containing the current directory.\n",
    "* `mkdir <directory>`: create a new directory with the specified name.\n",
    "* `rmdir <directory>`: removes the specified directory. Note it has to be empty.\n",
    "* `rm <filename>`: deletes the specified file.\n",
    "* `mv <filename 1> <filename 2>`: Moves or renames a file.\n",
    "* `cp <filename 1> <filename 2>`: copies an file. If you just provide a path to a directory, it copies the file into that directory with the same filename. If you specifiy a new filename, the copy has a new name. For example `cp File.1.txt File.2.txt` creates a copy of `File.1.txt` with the name `File.2.txt`. Meanwhile `cp File.1.txt my_directory`, where `my_directory` is a directory, creates a copy of `File.1.txt` in directory `my_directory` with the name `File.1.txt`.\n",
    "\n",
    "For reference, here are some example resources I found by googling:\n",
    "\n",
    "* Paths and Wildcards: https://www.warp.dev/terminus/linux-wildcards\n",
    "* Basic commands like copy: https://kb.iu.edu/d/afsk\n",
    "* General introduction to shell: https://github-pages.ucl.ac.uk/RCPSTrainingMaterials/HPCandHTCusingLegion/2_intro_to_shell.html\n",
    "* Manual pages: https://www.geeksforgeeks.org/linux-man-page-entries-different-types/?ref=ml_lbp\n",
    "* Chaining commands: https://www.geeksforgeeks.org/chaining-commands-in-linux/?ref=ml_lbp\n",
    "* Piping: https://www.geeksforgeeks.org/piping-in-unix-or-linux/\n",
    "* Using sed: https://www.geeksforgeeks.org/sed-command-linux-set-2/?ref=ml_lbp\n",
    "* Various Unix commands: https://www.geeksforgeeks.org/linux-commands/?ref=lbp\n",
    "* Cheat sheets:\n",
    "    * https://www.stationx.net/unix-commands-cheat-sheet/\n",
    "    * https://cheatography.com/davechild/cheat-sheets/linux-command-line/\n",
    "    * https://www.theknowledgeacademy.com/blog/unix-commands-cheat-sheet/\n",
    "    \n",
    "These aren't necessarily the best resources. Feel free to search for better ones. Also, don't forget that Unix has built-in manual pages for all of its commands. Just type `man <command>` at the command prompt. Use the space-bar to scroll through the documentation and \"q\" to exit.\n",
    "\n",
    "\n",
    "### Setup and Submission\n",
    "\n",
    "Our course repository is public. The instructions here aim to have you setup a fork of the course repository. Unfortunately because you are forking a public repo, your fork will have to be public also. \n",
    "\n",
    "You should be familiar with git from the first semester of this course. I assume that you all have github accounts and have setup things to be able to [push to github using ssh](https://docs.github.com/en/github/authenticating-to-github/connecting-to-github-with-ssh). The instuctions here lead you to:\n",
    "\n",
    "We'll overview what you will do before going through step by step instructions.\n",
    "\n",
    "1. Setup:\n",
    "    1. Fork the class repository. Some directions in [fork-a-repo](https://docs.github.com/en/github/getting-started-with-github/fork-a-repo).\n",
    "    1. Create a directory on your personal system where you will keep all course materials.\n",
    "    1. In that directory, clone your fork of the repository.\n",
    "    1. Using `git remote`, set the upstream to be the class repo, so you can pull from the class and push to your fork.\n",
    "\n",
    "1. Submission:\n",
    "    1. Copy your solutions into the appropriate directory (e.g. into `Labs/Lab.2/`) and with appropriate filename `Lab.2.solution.ipynb'.\n",
    "    1. Commit / push your solutions.\n",
    " \n",
    "Below are step by step instructions with examples (including example directory naming convention). Feel free to modify things as you see fit. \n",
    "\n",
    "#### Setup\n",
    "You should only need to follow this instructions once. Here are some useful git commands:\n",
    "\n",
    "* Git help: `git help`\n",
    "* Git remote help: `git help remote`\n",
    "* Check remote status: `git remote -v`\n",
    "* Add a remote: `git remote add <stream name> <repo URL>`\n",
    "* Add a remove: `git remote remove <stream name>`\n",
    "\n",
    "Steps:\n",
    "1. In a browser, log into GitHub and navigate to the [course repository](https://github.com/UTA-DataScience/DATA3402.Spring.2025).\n",
    "1. On the top right of the page, press the fork button to create a new fork into your own GitHub account.\n",
    "1. After successful fork, you should find the browser showing your fork of the course repository. Use the green \"Code\" button to copy path to the repo into your the clipboard of your computer.\n",
    "1. Open a shell on your personal computer.\n",
    "1. If you have not done so already, create a new directory/folder where you will keep all course material to navigate to it. For example: `mkdir Data-3402` and `cd Data-3402`.\n",
    "1. Clone your fork of the repository using `git clone` followed by the path you copied into your clipboard. (copy/paste)\n",
    "1. Paste the URL to your fork in the worksheet for the TAs and instructors.\n",
    "1. Now go into the directory of your clone (`cd DATA3402.Spring.2025`).\n",
    "1. Type `git remote -v` to see the current setup for fetch and pull.\n",
    "1. Note the URL you see. This should be the same as what you used for your clone for both push and fetch.\n",
    "1. Delete the origin remote using `git remote remove origin`.\n",
    "1. Add the course repo as your remote using `git remote add origin https://github.com/UTA-DataScience/DATA3402.Spring.2025.git`.\n",
    "1. Change the push to point to your fork. This means you will need the URL to your clone we copied earlier and confirmed as the original origin. The command will look something like: `git remote set-url --push origin  https://github.com/XXXXXX/DATA3402.Spring.2025.git`, where XXXXX is your username on GitHub.\n",
    "1. Note that if you setup everything correctly, you now should be able to do `git pull` to get updates from the course repo, and do `git push` to push your commits into your own fork.\n",
    "\n",
    "### Submission\n",
    "These instructions outline how you submit files. Some useful commands:\n",
    "* To add a file to local repository: `git add <file>`.\n",
    "* To commit all changed files into local repository: `git -a -m \"A message\"`. You need to provide some comment when you commit. \n",
    "* To push the commited files from the local repository to GitHub: `git push`.\n",
    "* To get updates from GitHub: `git pull`.\n",
    "\n",
    "Steps:\n",
    "1. To submit your labs, navigate to your clone of your fork of the course repository. \n",
    "1. Use `git pull` to make sure you have the latest updates. \n",
    "1. Make sure your copy of the lab your are working on is in the appropriate place in this clone. That means if you have the file elsewhere, copy it to the same directory in your clone of your fork. \n",
    "1. Note that in order to avoid future conflicts, you should always name your solution differently than the original file in the class repo. For example if your file is still named `Lab.2.ipynb` you should rename it using the `mv` command: `mv Lab.2.ipynb Lab.2.solution.ipynb`. \n",
    "1. Add and files you wish to submit into the repo. For example: `git add Labs/Lab.2/Lab.2.solution.ipynb`\n",
    "1. Commit any changes: `git commit -a -m \"Lab 2 updates\"`\n",
    "1. Push your changes: `git push`\n",
    "1. Check on github website that your solutions have been properly submitted.\n",
    "\n",
    "Before you leave the session today, make sure your GitHub Repo is setup. If you need to work further on your lab, navigate jupyter to the copy of the lab you just submitted and work there. Once done, repeat the commit and push commands to submit your updated solution. Note that lab 2 is due by midnight Friay 1/31/2025.\n"
   ]
  },
  {
   "cell_type": "markdown",
   "metadata": {},
   "source": [
    "### Uniform Distribution\n",
    "Lets start with generating some fake random data. You can get a random number between 0 and 1 using the python random module as follow:"
   ]
  },
  {
   "cell_type": "code",
   "execution_count": 357,
   "metadata": {},
   "outputs": [
    {
     "name": "stdout",
     "output_type": "stream",
     "text": [
      "The Value of x is 0.6025282220595826\n"
     ]
    }
   ],
   "source": [
    "import random\n",
    "x=random.random()\n",
    "print(\"The Value of x is\", x)"
   ]
  },
  {
   "cell_type": "markdown",
   "metadata": {},
   "source": [
    "Everytime you call random, you will get a new number.\n",
    "\n",
    "*Exercise 1:* Using random, write a function `generate_uniform(N, mymin, mymax)`, that returns a python list containing N random numbers between specified minimum and maximum value. Note that you may want to quickly work out on paper how to turn numbers between 0 and 1 to between other values. "
   ]
  },
  {
   "cell_type": "code",
   "execution_count": 358,
   "metadata": {},
   "outputs": [],
   "source": [
    "def generate_uniform(N, x_min, x_max):\n",
    "    out = []\n",
    "    \n",
    "    for number in range(N):\n",
    "        num_gen = random.random()\n",
    "        x = (x_max - x_min) * num_gen + x_min\n",
    "        out.append(x)\n",
    "\n",
    "    return out"
   ]
  },
  {
   "cell_type": "code",
   "execution_count": 359,
   "metadata": {},
   "outputs": [
    {
     "name": "stdout",
     "output_type": "stream",
     "text": [
      "Data Type: <class 'list'>\n",
      "Data Length: 1000\n",
      "Type of Data Contents: <class 'float'>\n",
      "Data Minimum: -9.995915667860007\n",
      "Data Maximum: 9.993904859446271\n"
     ]
    }
   ],
   "source": [
    "data=generate_uniform(1000,-10,10)\n",
    "print (\"Data Type:\", type(data))\n",
    "print (\"Data Length:\", len(data))\n",
    "if len(data)>0: \n",
    "    print (\"Type of Data Contents:\", type(data[0]))\n",
    "    print (\"Data Minimum:\", min(data))\n",
    "    print (\"Data Maximum:\", max(data))"
   ]
  },
  {
   "cell_type": "markdown",
   "metadata": {},
   "source": [
    "*Exercise 2a:* \n",
    "Write a function that computes the mean of values in a list. Recall the equation for the mean of a random variable $\\bf{x}$ computed on a data set of $n$ values $\\{ x_i \\} = \\{x_1, x_2, ..., x_n\\}$  is ${\\bf\\bar{x}} = \\frac{1}{n} \\sum_i^n x_i$."
   ]
  },
  {
   "cell_type": "code",
   "execution_count": 360,
   "metadata": {},
   "outputs": [],
   "source": [
    "def mean(data):\n",
    "    if sum(data) == 0:\n",
    "        return \"Please enter a dataset with non-zero numbers.\"\n",
    "    \n",
    "    return sum(data)/len(data)"
   ]
  },
  {
   "cell_type": "code",
   "execution_count": 361,
   "metadata": {},
   "outputs": [
    {
     "name": "stdout",
     "output_type": "stream",
     "text": [
      "Mean of Data: -0.28334362365981725\n"
     ]
    }
   ],
   "source": [
    "print (\"Mean of Data:\", mean(data))"
   ]
  },
  {
   "cell_type": "markdown",
   "metadata": {},
   "source": [
    "*Exercise 2b:* \n",
    "Write a function that computes the variance of values in a list. Recall the equation for the variance of a random variable $\\bf{x}$ computed on a data set of $n$ values $\\{ x_i \\} = \\{x_1, x_2, ..., x_n\\}$  is ${\\bf\\langle x \\rangle} = \\frac{1}{n} \\sum_i^n (x_i - {\\bf\\bar{x}})$."
   ]
  },
  {
   "cell_type": "code",
   "execution_count": 362,
   "metadata": {},
   "outputs": [],
   "source": [
    "def variance(data): \n",
    "    x_mean = mean(data)\n",
    "    \n",
    "    return sum((x_i - x_mean) ** 2 for x_i in data) / len(data) - 1"
   ]
  },
  {
   "cell_type": "code",
   "execution_count": 363,
   "metadata": {},
   "outputs": [
    {
     "name": "stdout",
     "output_type": "stream",
     "text": [
      "Variance of Data: 32.93000633516501\n"
     ]
    }
   ],
   "source": [
    "print (\"Variance of Data:\", variance(data))"
   ]
  },
  {
   "cell_type": "markdown",
   "metadata": {},
   "source": [
    "## Histogramming"
   ]
  },
  {
   "cell_type": "markdown",
   "metadata": {},
   "source": [
    "*Exercise 3:* Write a function that bins the data so that you can create a histogram. An example of how to implement histogramming is the following logic:\n",
    "\n",
    "* User inputs a list of values `x` and optionally `n_bins` which defaults to 10.\n",
    "* If not supplied, find the minimum and maximum (`x_min`,`x_max`) of the values in x.\n",
    "* Determine the bin size (`bin_size`) by dividing the range of the function by the number of bins.\n",
    "* Create an empty list of zeros of size `n_bins`, call it `hist`.\n",
    "* Loop over the values in `x`\n",
    "    * Loop over the values in `hist` with index `i`:\n",
    "        * If x is between `x_min+i*bin_size` and `x_min+(i+1)*bin_size`, increment `hist[i].` \n",
    "        * For efficiency, try to use continue to goto the next bin and data point.\n",
    "* Return `hist` and the list corresponding of the bin edges (i.e. of `x_min+i*bin_size`).    "
   ]
  },
  {
   "cell_type": "code",
   "execution_count": 364,
   "metadata": {},
   "outputs": [],
   "source": [
    "def histogram(x, n_bins=10, x_min=None, x_max=None):\n",
    "    if x_min == None:\n",
    "        x_min = min(x)\n",
    "    if x_max == None:\n",
    "        x_max = max(x)\n",
    "        \n",
    "    bin_size = (x_max - x_min) / n_bins\n",
    "    hist = [0] * n_bins\n",
    "    bin_edges = [x_min + i * bin_size for i in range(n_bins + 1)]\n",
    "    \n",
    "    for values in x:\n",
    "        for i in range(n_bins):\n",
    "            if values > x_min + i * bin_size and values < x_min + (i + 1) * bin_size:\n",
    "                hist[i] += 1\n",
    "                continue\n",
    "\n",
    "    return hist,bin_edges"
   ]
  },
  {
   "cell_type": "code",
   "execution_count": 365,
   "metadata": {},
   "outputs": [
    {
     "name": "stdout",
     "output_type": "stream",
     "text": [
      "[6, 13, 16, 9, 11, 14, 8, 6, 9, 17, 8, 8, 13, 7, 9, 15, 17, 11, 11, 12, 6, 12, 14, 13, 9, 12, 13, 12, 8, 10, 12, 17, 12, 10, 9, 6, 13, 5, 9, 11, 4, 7, 12, 6, 11, 7, 7, 9, 17, 10, 8, 4, 9, 9, 9, 8, 6, 13, 6, 2, 4, 9, 13, 13, 12, 11, 13, 13, 11, 15, 12, 9, 8, 6, 9, 16, 15, 14, 9, 9, 6, 9, 5, 11, 13, 12, 8, 9, 6, 6, 9, 8, 10, 10, 13, 12, 9, 12, 5, 7]\n"
     ]
    }
   ],
   "source": [
    "h,b=histogram(data,100)\n",
    "print(h)"
   ]
  },
  {
   "cell_type": "markdown",
   "metadata": {},
   "source": [
    "*Exercise 4:* Write a function that uses the histogram function in the previous exercise to create a text-based \"graph\". For example the output could look like the following:\n",
    "```\n",
    "[  0,  1] : ######\n",
    "[  1,  2] : #####\n",
    "[  2,  3] : ######\n",
    "[  3,  4] : ####\n",
    "[  4,  5] : ####\n",
    "[  5,  6] : ######\n",
    "[  6,  7] : #####\n",
    "[  7,  8] : ######\n",
    "[  8,  9] : ####\n",
    "[  9, 10] : #####\n",
    "```\n",
    "\n",
    "Where each line corresponds to a bin and the number of `#`'s are proportional to the value of the data in the bin. "
   ]
  },
  {
   "cell_type": "code",
   "execution_count": 366,
   "metadata": {},
   "outputs": [],
   "source": [
    "def draw_histogram(x, n_bins, x_min=None, x_max=None, character=\"#\", max_character_per_line=20):\n",
    "    hist, bin_edges = histogram(x, n_bins, x_min, x_max)\n",
    "        \n",
    "    for i in range(len(hist)):\n",
    "        bin_labels = f\"[{round(bin_edges[i], 1)}, {round(bin_edges[i + 1], 1)}] :\"\n",
    "        print (bin_labels, character * min(hist[i], max_character_per_line))"
   ]
  },
  {
   "cell_type": "code",
   "execution_count": 367,
   "metadata": {},
   "outputs": [
    {
     "name": "stdout",
     "output_type": "stream",
     "text": [
      "[-10.0, -9.0] : ####################\n",
      "[-9.0, -8.0] : ####################\n",
      "[-8.0, -7.0] : ####################\n",
      "[-7.0, -6.0] : ####################\n",
      "[-6.0, -5.0] : ####################\n",
      "[-5.0, -4.0] : ####################\n",
      "[-4.0, -3.0] : ####################\n",
      "[-3.0, -2.0] : ####################\n",
      "[-2.0, -1.0] : ####################\n",
      "[-1.0, -0.0] : ####################\n",
      "[-0.0, 1.0] : ####################\n",
      "[1.0, 2.0] : ####################\n",
      "[2.0, 3.0] : ####################\n",
      "[3.0, 4.0] : ####################\n",
      "[4.0, 5.0] : ####################\n",
      "[5.0, 6.0] : ####################\n",
      "[6.0, 7.0] : ####################\n",
      "[7.0, 8.0] : ####################\n",
      "[8.0, 9.0] : ####################\n",
      "[9.0, 10.0] : ####################\n"
     ]
    }
   ],
   "source": [
    "h,b= histogram(data,20)\n",
    "draw_histogram(data, n_bins = 20, character=\"#\", max_character_per_line=20)"
   ]
  },
  {
   "cell_type": "markdown",
   "metadata": {},
   "source": [
    "## Functional Programming\n",
    "\n",
    "*Exercise 5:* Write a function the applies a booling function (that returns true/false) to every element in data, and return a list of indices of elements where the result was true. Use this function to find the indices of entries greater than 0.5. "
   ]
  },
  {
   "cell_type": "code",
   "execution_count": 368,
   "metadata": {},
   "outputs": [],
   "source": [
    "def true_or_false(number): \n",
    "    if number > 0.5:\n",
    "        return True\n",
    "    else:\n",
    "        return False\n",
    "    \n",
    "def where(mylist, myfunc):\n",
    "    out= []\n",
    "    \n",
    "    for index, value in enumerate(mylist):\n",
    "        if true_or_false(value) == True:\n",
    "            out.append(index)\n",
    "    \n",
    "    return out"
   ]
  },
  {
   "cell_type": "code",
   "execution_count": 369,
   "metadata": {},
   "outputs": [
    {
     "name": "stdout",
     "output_type": "stream",
     "text": [
      "The indices of values greater than 0.5:  [0, 4, 5, 6, 7]\n"
     ]
    }
   ],
   "source": [
    "list = [1, 0.1, -4, -10, 3, 6, 10, 19]\n",
    "print(\"The indices of values greater than 0.5: \",where(list, true_or_false))"
   ]
  },
  {
   "cell_type": "markdown",
   "metadata": {},
   "source": [
    "*Exercise 6:* The `inrange(mymin,mymax)` function below returns a function that tests if it's input is between the specified values. Write corresponding functions that test:\n",
    "* Even\n",
    "* Odd\n",
    "* Greater than\n",
    "* Less than\n",
    "* Equal\n",
    "* Divisible by"
   ]
  },
  {
   "cell_type": "code",
   "execution_count": 370,
   "metadata": {},
   "outputs": [
    {
     "name": "stdout",
     "output_type": "stream",
     "text": [
      "True True False False False\n",
      "False False True True False\n",
      "Number of Entries passing F1: 460\n",
      "Number of Entries passing F2: 460\n"
     ]
    }
   ],
   "source": [
    "def in_range(mymin,mymax):\n",
    "    def testrange(x):\n",
    "        return x<mymax and x>=mymin\n",
    "    return testrange\n",
    "\n",
    "# Examples:\n",
    "F1=in_range(0,10)\n",
    "F2=in_range(10,20)\n",
    "\n",
    "# Test of in_range\n",
    "print (F1(0), F1(1), F1(10), F1(15), F1(20))\n",
    "print (F2(0), F2(1), F2(10), F2(15), F2(20))\n",
    "\n",
    "print (\"Number of Entries passing F1:\", len(where(data,F1)))\n",
    "print (\"Number of Entries passing F2:\", len(where(data,F2)))"
   ]
  },
  {
   "cell_type": "code",
   "execution_count": 371,
   "metadata": {},
   "outputs": [],
   "source": [
    "def even(x):\n",
    "    print(f\"Is {x} even?\")\n",
    "    return x % 2 == 0 \n",
    "\n",
    "def odd(x):\n",
    "    print(f\"Is {x} odd?\")\n",
    "    return x % 2 != 0\n",
    "\n",
    "def greater_than(x, y):\n",
    "    print(f\"Is {x} greater than {y}?\")\n",
    "    return x > y\n",
    "    \n",
    "def less_than(x, y):\n",
    "    print(f\"Is {x} less than {y}?\")\n",
    "    return x < y   \n",
    "\n",
    "def equal(x, y):\n",
    "    print(f\"Is {x} equal to {y}?\")\n",
    "    return x == y\n",
    "\n",
    "def divisible_by(x, y):\n",
    "    print(f\"Is {x} divisible by {y}?\")\n",
    "    return x % y == 0"
   ]
  },
  {
   "cell_type": "code",
   "execution_count": 372,
   "metadata": {},
   "outputs": [
    {
     "name": "stdout",
     "output_type": "stream",
     "text": [
      "Is 3 even?\n",
      "False\n",
      "Is 7 odd?\n",
      "True\n",
      "Is 100 greater than 5?\n",
      "True\n",
      "Is 10 less than 20?\n",
      "True\n",
      "Is 1 equal to 10?\n",
      "False\n",
      "Is 10 divisible by 5?\n",
      "True\n"
     ]
    }
   ],
   "source": [
    "print(even(3))\n",
    "print(odd(7))\n",
    "print(greater_than(100, 5))\n",
    "print(less_than(10, 20))\n",
    "print(equal(1, 10))\n",
    "print(divisible_by(10, 5))"
   ]
  },
  {
   "cell_type": "markdown",
   "metadata": {},
   "source": [
    "*Exercise 7:* Repeat the previous exercise using `lambda` and the built-in python functions sum and map instead of your solution above. "
   ]
  },
  {
   "cell_type": "code",
   "execution_count": 373,
   "metadata": {},
   "outputs": [],
   "source": [
    "even = lambda x: x % 2 == 0\n",
    "odd = lambda x: x % 2 != 0\n",
    "greater_than = lambda x, y: x > y\n",
    "less_than = lambda x, y: x < y\n",
    "equal_to = lambda x, y: x == y\n",
    "divisible_by = lambda x, y: x % y == 0"
   ]
  },
  {
   "cell_type": "code",
   "execution_count": 374,
   "metadata": {},
   "outputs": [
    {
     "name": "stdout",
     "output_type": "stream",
     "text": [
      "Number of even numbers:  4\n",
      "Number of odd numbers:  4\n",
      "Number of entries above 0:  6\n",
      "Number of entries below 0:  2\n",
      "Number of entries equal to 7:  1\n",
      "Number of entries above divisible by 5:  2\n"
     ]
    }
   ],
   "source": [
    "list = [1, 7, -4, -10, 3, 6, 10, 19]\n",
    "\n",
    "print(\"Number of even numbers: \", sum(map(even, list)))\n",
    "print(\"Number of odd numbers: \", sum(map(odd, list)))\n",
    "print(\"Number of entries above 0: \", sum(map(lambda element: greater_than(element, 0), list)))\n",
    "print(\"Number of entries below 0: \", sum(map(lambda element: less_than(element, 0), list)))\n",
    "print(\"Number of entries equal to 7: \", sum(map(lambda element: equal_to(element, 7), list)))\n",
    "print(\"Number of entries above divisible by 5: \", sum(map(lambda element: divisible_by(element, 5), list)))"
   ]
  },
  {
   "cell_type": "markdown",
   "metadata": {},
   "source": [
    "## Monte Carlo\n",
    "\n",
    "*Exercise 7:* Write a \"generator\" function called `generate_function(func,x_min,x_max,N)`, that instead of generating a flat distribution, generates a distribution with functional form coded in `func`. Note that `func` will always be > 0.  \n",
    "\n",
    "Use the test function below and your histogramming functions above to demonstrate that your generator is working properly.\n",
    "\n",
    "Hint: A simple, but slow, solution is to a draw random number `test_x` within the specified range and another number `p` between the `min` and `max` of the function (which you will have to determine). If `p<=function(test_x)`, then place `test_x` on the output. If not, repeat the process, drawing two new numbers. Repeat until you have the specified number of generated numbers, `N`. For this problem, it's OK to determine the `min` and `max` by numerically sampling the function.  "
   ]
  },
  {
   "cell_type": "code",
   "execution_count": 375,
   "metadata": {},
   "outputs": [],
   "source": [
    "def find_min_0(func, x_min, x_max, steps):\n",
    "    step_size = (x_max - x_min) / steps\n",
    "    x = x_min\n",
    "    y_min = func(x_min)\n",
    "    x_min_val = x_min\n",
    "\n",
    "    for i in range(steps):\n",
    "        y = func(x)\n",
    "        if y < y_min:\n",
    "            x_min_val = x\n",
    "            y_min = y\n",
    "        x += step_size\n",
    "    \n",
    "    return x_min_val\n",
    "\n",
    "def find_max_0(func, x_min, x_max, steps):\n",
    "    step_size = (x_max - x_min) / steps\n",
    "    x = x_min\n",
    "    y_max = func(x_min)\n",
    "    x_max_val = x_min\n",
    "\n",
    "    for i in range(steps):\n",
    "        y=func(x)\n",
    "        if y > y_max:\n",
    "            x_max_val = x\n",
    "            y_max = y\n",
    "        x += step_size\n",
    "    \n",
    "    return x_max_val\n",
    "    \n",
    "def generate_function(func, x_min, x_max, N=1000):\n",
    "    out = []\n",
    "    \n",
    "    f_min = find_min_0(func, x_min, x_max, steps = 100)\n",
    "    f_max = find_max_0(func, x_min, x_max, steps = 100)\n",
    "\n",
    "    while len(out) < N:\n",
    "        test_x = generate_uniform(1, x_min, x_max)[0]\n",
    "        p = generate_uniform(1, f_min, f_max)[0]\n",
    "        \n",
    "        if p <= func(test_x):  \n",
    "            out.append(test_x)\n",
    "                 \n",
    "    return out"
   ]
  },
  {
   "cell_type": "code",
   "execution_count": 376,
   "metadata": {},
   "outputs": [
    {
     "name": "stdout",
     "output_type": "stream",
     "text": [
      "[2.9008999448936343, 9.0088791445515, 5.364650849203855, 1.4946464901452727, 7.26840900306321, 9.431263124942163, 8.571926022470457, 8.500940920729157, 4.4540522292536755, 3.2813022924834545, 3.885783638795297, 6.844652361234584, 4.720446011507017, 2.013841341983972, 0.2801274252154651, 2.0345955109989, 5.747705464926943, 1.7332978566665458, 4.547233965514375, 9.854582936919202, 9.533219897354604, 5.785924175093986, 8.178533975007067, 5.460592855274678, 9.883007718304528, 3.615600463283232, 6.989693955720389, 9.769001298607717, 7.818294860536966, 9.800966784446457, 3.5571800444205657, 9.181849246689488, 8.115003005431534, 7.238892538569805, 5.106890113733391, 9.60894349970687, 9.690708374445455, 4.1638494297471516, 9.173995691275739, 3.4882553126089633, 7.827689206161007, 5.677586390298446, 9.414050819330788, 8.659839180959732, 3.5976365653252493, 8.861562476714159, 7.60237879988744, 3.719899696524991, 8.709193295698242, 9.918684531325827, 7.328599673185043, 7.840206339385808, 7.75622226029145, 7.800672100208327, 8.627883697788622, 6.96757184339414, 3.823678955041964, 2.8865952974670606, 5.323776211038554, 1.760404541228422, 8.779915023510647, 9.665886968865747, 9.111084403213477, 9.590678257861178, 8.497290007372623, 9.740740412174857, 8.027230376155622, 9.56382346554994, 7.609450840263195, 9.809730972456178, 8.265676792583038, 9.474627711434833, 9.279793924948818, 8.158723438626035, 6.903059338816893, 9.944210954952096, 6.113164363162089, 5.612513991074603, 9.445273342577009, 8.239877608154394, 9.686257227279343, 6.54763083135262, 5.911138567148091, 9.139148285201834, 3.970241132847897, 7.882484754394989, 6.687270828118976, 8.37095555825761, 5.663694947001769, 5.428790266292659, 8.482157500789022, 9.152189023102029, 4.317835091321877, 8.944067889038271, 4.201757906713186, 5.853636145688333, 9.564441119451196, 7.37661391457534, 7.997465417568686, 7.221466073728788, 7.088841915320653, 4.18235230489077, 2.823237155207563, 9.926857685477458, 2.979180890583617, 1.9600152107761915, 4.54329370872601, 8.904197852540698, 2.1775275330935093, 9.428583080949236, 8.867540577515653, 4.6710410812718095, 9.828212855483203, 9.524591335690578, 2.1678228747612427, 3.859586400980274, 6.187872500917556, 4.896167175034333, 6.99202202875232, 6.2600280426739285, 4.67867070120262, 7.3996160371486175, 8.031599914493592, 6.758900182247853, 9.150091448607762, 4.049056840836991, 4.085390571612493, 9.012549544718828, 5.0343925671667495, 6.609710945538133, 4.875630434338301, 6.022667937997534, 9.391475821528555, 1.7231864690208487, 7.476454617743354, 7.72277101926723, 0.9617437685575769, 1.3738911930425768, 5.924530327385801, 5.221821442475202, 7.240475371145693, 7.236635996206317, 9.37147751446971, 4.781662841470085, 9.96363307835654, 9.366231693838989, 7.3758274495829435, 8.697970399661951, 2.518388154392661, 6.095846392490646, 8.07424705555926, 9.212424107147134, 3.907124479046342, 6.73098969971766, 1.2059558716692365, 8.020341971020482, 9.775265859994489, 8.94849419316904, 8.8702136502696, 8.945188302361094, 9.752028133527077, 6.875263268844948, 7.636887656596025, 6.70489769420652, 9.740570608004097, 5.3406893809636715, 6.621701773089722, 7.694188823395286, 0.9945084903747159, 0.9933344993535165, 8.113561213447728, 8.157561495365455, 9.403612377323805, 4.873983292844483, 5.365541364377151, 3.2430600465916557, 3.9480800026981133, 1.2615218275903883, 8.309063747274799, 8.22581181699304, 1.4197175321866928, 7.469343463709004, 3.005913904940183, 8.772768239271748, 9.252634962320297, 7.9226981225180095, 8.001836744067557, 4.490507158462233, 7.623923984864195, 4.145465642503144, 4.49606716744001, 1.652757114755763, 7.922457105811179, 9.740931809028833, 4.575831989814149, 8.135301955050341, 7.005811961344853, 3.1153557736668755, 4.8547724381450985, 9.535839156924814, 8.908948122039842, 7.077412351717436, 9.816910663952493, 2.3693533821522674, 0.39367607215869516, 7.086071854405147, 3.926167427220979, 3.173003257891611, 9.904968074884582, 9.103399117281116, 9.637112525755857, 9.216196915641358, 6.713452285198521, 6.992668654511711, 3.38106343796295, 4.729820801407941, 9.327974249474446, 3.726130521565454, 8.990457969268578, 8.974885086421626, 3.153272385587227, 8.422678488240832, 9.500746548993757, 4.582957151316465, 9.609122746476384, 5.452625717668567, 4.6012823937669465, 9.88620991909248, 8.857206914319471, 9.509063575606145, 8.790505823500453, 9.647299374171771, 9.967556081035664, 3.6759427627949837, 6.730596703038704, 2.9629804638804433, 8.448731158381154, 9.833977017553785, 8.869550085706571, 2.9189981499640147, 9.148673304977853, 6.883017257316093, 9.570408096663659, 5.6548898553635905, 7.9232696491732195, 9.702168367683408, 9.5975708788462, 4.619645061754881, 3.0832893626922653, 5.934442883607551, 5.2954317640641015, 7.9579952073122575, 3.2629715111844737, 5.2267644122599854, 7.264614574947502, 7.542446019529532, 6.149119385090126, 9.809264259442994, 4.535592845038769, 4.3669371620855655, 9.442173066442074, 4.681158637892323, 9.722747707016296, 8.19068306812459, 4.477321493282028, 9.571081142299057, 6.093429060123237, 8.49810509042596, 8.544219673281596, 7.035009548165147, 7.212396485936435, 8.82451865370166, 9.414436436973574, 8.374643018113076, 9.364044155785395, 6.33901077493033, 7.907484684320954, 6.343694015996883, 6.246662958428846, 7.0689024900165585, 7.510594701731479, 6.1747613344915555, 7.348198112720326, 2.75109427026498, 9.403319976907456, 4.703100623546135, 7.259632413232358, 2.5261278661627795, 3.260593085770153, 4.529530007101329, 7.9178036577174735, 9.534475483027801, 5.923766756576237, 8.883848768263254, 4.887728917656426, 9.895118471010989, 9.841109509679036, 9.076110959048343, 7.74485025932485, 2.2158391135947864, 7.328029546664697, 7.881964719473654, 7.80407109074429, 9.088053229087802, 7.38060012065948, 9.948878700367501, 3.1607091245346552, 3.724289861737616, 7.894602607889922, 7.298427985635953, 6.437105639466934, 2.72136788134709, 4.652632635711555, 8.018259846764463, 4.729136527714912, 9.220895939514659, 9.125620295899228, 3.581153286676817, 4.09801368340371, 9.04768939128645, 7.285757298282444, 4.898491325477136, 9.76169290763711, 7.563762255581857, 9.077286817750288, 6.8024273730681815, 6.327276608575884, 5.529667168224247, 8.85812614819174, 4.704577301383627, 3.113031706804489, 6.144419586059232, 9.915566899231415, 9.953390694924723, 6.838013647020743, 4.788230410773372, 2.665910783792004, 3.7717170495885846, 8.99167474741142, 6.437234111482367, 8.412344102051973, 3.0237446069369, 7.649709160845975, 2.7997174814104007, 5.724386355038394, 2.5190972738615782, 2.8130304010876426, 8.872264252358272, 7.846222021209671, 8.44160974456641, 2.429272012840986, 7.784181567141433, 1.7458880884900418, 7.1353445202886725, 9.933592823929109, 8.278234338368346, 4.0002320732674255, 6.733052996114842, 4.230988416077844, 4.039557295157513, 9.623275879602023, 9.284405229936896, 5.613476559294694, 9.330330824118981, 3.9960191640400424, 7.32159616596788, 6.436443165865919, 2.3978398070656426, 8.180523893265125, 5.482401045814548, 2.7094712130434617, 5.878530696423616, 2.3084687982087235, 8.61396879918631, 7.739862939185377, 2.1897995174171925, 7.467217475381156, 6.973582521948632, 4.088716683273423, 6.840148402719724, 7.703705963248862, 9.573272460209138, 9.511978009942585, 6.23045520015221, 8.429899474265987, 6.875297254454594, 6.738738271500326, 7.164004366525654, 8.361058238567274, 4.396388915721939, 7.549322293822554, 4.973589785331043, 6.95331935546159, 5.0823912341815705, 5.783503998175594, 8.131278973639104, 3.4185108572408627, 5.104921163323607, 1.83964407238841, 8.987656175969263, 1.8727133215196867, 9.445696974978803, 2.0995430182638133, 8.805398666979338, 2.305912527948897, 2.72776764320286, 8.261909518532809, 8.8526290988768, 4.967377524462476, 9.728511985288822, 7.618784914574626, 4.672308329108025, 3.511345962014026, 7.314774096638431, 8.874188140012787, 4.031071126680951, 1.193426169912598, 2.216930137821056, 8.726102255313299, 8.465682247862143, 4.628440497009944, 9.599565021629822, 1.2134833309752402, 4.303653737766035, 1.9125449358979096, 5.347150107509105, 9.953545341893973, 5.733558576320092, 7.062319865057526, 5.251968662650488, 7.037210683389061, 6.6622815623287295, 9.317685477337502, 8.47880414746044, 6.276818052323274, 6.5473188085934595, 9.885834289404267, 8.913946721189768, 2.9947267718335824, 8.68502885824778, 4.18578420176302, 1.3321708589306946, 6.75483133228999, 8.576766217351707, 8.791551505650288, 6.52792800679765, 6.152240896457476, 8.463654531063774, 7.365315511562745, 0.08535852582620018, 8.982066886497135, 8.712759379984455, 9.351656889047064, 2.088149503506868, 8.753039217735285, 4.4983481408488295, 3.326063354614781, 9.323918739104212, 9.8774491276209, 3.163185815110483, 4.750722554858725, 7.149815382125505, 4.42525236668252, 9.816752059060455, 5.399704429572617, 5.951753323295883, 9.321724321325398, 4.235417193910993, 4.052088856969417, 5.16441392573449, 7.197411507140088, 6.995957822925086, 2.26901539377365, 5.282604404390224, 8.547326961953225, 9.037103570631494, 9.955518609168521, 4.186613279747523, 7.016347483510863, 5.976676518567498, 9.509923455654986, 6.259889631201529, 2.912232000711649, 5.756724984177599, 6.975859416463267, 4.456184590194042, 3.1931564311901637, 6.749595532707225, 4.566357884639744, 9.392663224947713, 8.166993917749705, 2.874175467791585, 4.912271861030594, 1.58386935662172, 5.892910874322064, 5.520199400023041, 6.7545960199346915, 8.231867814747847, 1.8236529345117536, 2.543484342615494, 0.145690428552675, 6.268110489396394, 7.75484246524743, 9.852747796265097, 8.441014141226544, 8.50976203557812, 1.0838263843164342, 3.433178802059822, 8.82528420634556, 7.812705078895558, 9.239798494241795, 5.397039038367105, 7.5634935161737324, 4.339240562918381, 9.888134292737945, 8.224736625989062, 8.02592297337016, 8.532765040414745, 9.475535501149693, 4.23260289783562, 4.163648486972914, 9.811041253377791, 8.154589623855198, 3.116829299931716, 6.201853683012748, 7.596090965067377, 6.5504789948146644, 2.1255432930518214, 2.212839772332593, 3.673557940940354, 8.110859033049962, 9.188894474642392, 9.010372588599115, 8.841937950115138, 9.593154528469174, 6.241673532486188, 4.719700792226259, 9.080125243324783, 9.164719604009221, 4.819722677119444, 6.065564536848984, 4.828303771165005, 6.64583011510944, 2.403248208821643, 7.458744538588629, 5.345457662617264, 5.303773733835012, 7.224821930911048, 8.986098415372599, 9.790461452746424, 6.900689557733422, 2.7431774716181656, 7.985945620996711, 9.467578612652495, 9.071425677209213, 3.8755726748378216, 1.5085203043979079, 3.7336648703739095, 5.388433414719492, 9.304741261842036, 9.401301690059604, 8.194500960532475, 9.622727004023382, 9.748300313630768, 8.315308018162655, 9.3654029593899, 8.341888787864626, 8.840390456894895, 8.836624709530561, 3.269744947249821, 1.250787109316025, 6.552168349127961, 6.433518376633296, 6.337332297675973, 8.740543050250482, 9.123246713724654, 8.074514520968894, 3.3774174717326053, 6.718372819960608, 9.572423149797853, 8.014231973832244, 6.079460511676711, 8.343840406112168, 6.995630552369061, 5.909094868826184, 5.59178594572861, 9.54666241924979, 7.753858480618426, 9.519728095466796, 4.220160064528315, 9.116870690160383, 4.513812873514445, 5.216859391804184, 8.700407535995247, 3.385863125959103, 8.581124427887794, 3.631266893005903, 2.63951062446921, 8.578141048448268, 4.80056790265418, 3.00323569899989, 7.7661415860354355, 8.051750682375921, 7.496962388095582, 8.86266913099754, 6.394340089960964, 3.927513521613093, 7.244875954306872, 6.999117519872682, 7.496032703459134, 8.784356536993752, 8.860892703707728, 7.7040737329854805, 7.11855540723938, 9.061166962368283, 0.7444028316885432, 3.2325432249357045, 8.714403368664112, 5.410145481381537, 2.3667778617413013, 7.4323465364049515, 9.265801439429309, 8.741259982806152, 0.19920013192385566, 9.624697433819128, 5.527031432584834, 9.768263103762427, 3.3759405147870067, 8.98785578748379, 2.387182121942578, 7.870111568400051, 2.8197610003698936, 6.6127056189741165, 8.981830634756156, 4.561149489563848, 2.212927011029647, 9.306412119759308, 4.453071187351338, 5.585710533833305, 3.82258479696322, 6.542824901121881, 4.513643433395508, 2.4510045378815484, 5.291254614608424, 7.830757741785322, 6.956624789875433, 8.950312690243132, 8.182463647446633, 5.320266729371394, 4.318443793090378, 6.655400225507665, 3.6964711611278345, 2.2938703801152416, 6.3845760328183925, 2.5025860367546926, 1.8123800284616987, 7.516969211862149, 9.528113695903572, 3.9751722138680656, 3.9305594697189283, 5.191445778730143, 9.093558314859006, 5.274863421711778, 7.693987804209507, 2.8607547990639315, 7.4365178422894385, 0.3324669597319141, 9.326922499972808, 4.017783668250044, 3.9046570884186482, 6.757808993877854, 4.2938488049380865, 7.217954634802205, 8.145555392085672, 7.055854238089362, 2.5604624796261053, 6.811479409579873, 2.723718259380793, 9.214350132859112, 7.009034276230524, 5.820568507821877, 9.470068436337156, 9.662527519601774, 2.70183589427081, 6.562461466659407, 8.954356587487514, 7.402359661448793, 7.240164985840627, 5.676690618057596, 3.405767386004727, 9.487274106494404, 2.3754445372622444, 9.182295606198686, 2.6990383022364615, 2.2491960535040034, 7.463206158832429, 7.52615475808378, 6.7570220316554135, 8.510894799747366, 5.871956208135316, 5.68465897353672, 1.8628747165358794, 8.675606911193709, 8.804616195401865, 8.756969382768956, 7.269311183463558, 8.16997316420521, 2.872389510721476, 6.323615495663068, 6.788142976049082, 8.101915160292751, 8.520655751991564, 6.372876715609138, 5.683403461115567, 1.1959715205921384, 4.850886876011893, 7.760752138122488, 6.588740003359057, 5.949925386006641, 8.895688703955061, 9.755765597263833, 8.915251999237894, 8.89437691634858, 6.14181760730827, 7.3514322442948, 8.989866103820836, 2.4331327784144783, 2.805917085910692, 7.0646007080456545, 9.827869595555871, 8.651874601227952, 4.396125873090978, 2.862694279835548, 3.808358782139971, 9.040082992900746, 3.149641334010199, 0.8270908669485311, 6.505237975987193, 9.33846160398662, 3.7426062243873135, 2.8670301098249897, 8.42395345577616, 0.48823176889157827, 9.389093790954064, 7.416913047154389, 9.82936947537569, 9.68675032091126, 9.504473222322286, 6.008669366926322, 9.23468632797093, 8.4352423250889, 7.980427335233607, 7.906093003494025, 7.447426096875708, 2.115121617731228, 9.456765998197518, 8.363852268264075, 6.907790760891493, 3.3461029003517817, 5.725820783225256, 2.861031159199363, 8.783163148608432, 4.427835905727372, 9.475489807346761, 3.419087456556152, 6.9493076672317216, 0.6438116371161984, 7.950814147720992, 3.991389947210938, 5.30138221811638, 5.244417992640766, 9.361873806003462, 9.853825945033984, 7.478800111287454, 2.1110495060240453, 8.80948958432976, 9.62250328847954, 5.269992173218464, 4.4220948997916345, 4.7081433803417605, 1.2817115555367942, 8.06508584739587, 7.732176238264064, 8.530341876168787, 5.0954989580818255, 6.700551770774331, 5.5745684721676145, 7.57728857088855, 6.244076396212604, 5.931821074240322, 4.852251178235528, 6.376419871253387, 7.698862115980589, 7.143714122890621, 7.015014971494368, 5.038702933433017, 7.087336688089242, 5.531075499788725, 7.987760045222294, 6.722051810529424, 7.307521927424123, 6.779760514983012, 0.11757216917826718, 9.608628310880764, 8.571823896160648, 7.970930979438232, 9.848082026116895, 9.906474617848268, 5.35177959619949, 9.326794847438652, 9.548952267879955, 9.718893047138383, 6.008099183736696, 9.216794927226127, 6.06173404588276, 8.73982481706346, 5.755209570582318, 4.161756796265318, 2.8479417659560937, 5.95199842426534, 7.440575784092026, 6.963478124805497, 8.542772386297393, 9.628722178488294, 5.129305717617082, 8.575981663967173, 6.765764584785103, 3.653715517982098, 7.609205895987078, 7.530431726878851, 9.07604611664679, 2.4945821284301486, 9.273159184340477, 1.1271413142053266, 7.3371316538158045, 5.686134775760566, 9.545695028474103, 6.442577541730615, 7.046568455459835, 6.525885127924155, 2.493309272758851, 1.2765078070333835, 5.291383309624232, 4.488954671832264, 4.278487528137443, 4.867769641402575, 5.1238933086220895, 4.292914014659197, 8.607350049278017, 5.053833869506824, 3.3041946042885573, 5.525013094610286, 6.514531379453605, 9.011655564662014, 3.415591733580139, 5.591320606848099, 5.66273267784121, 6.874698335267909, 8.283820322972664, 2.6256239509842882, 8.957877168046677, 1.7661573616751791, 8.734434634374534, 8.592773111629509, 7.884467409725334, 8.262030433652187, 7.124978716098259, 9.75106856456337, 7.068680632776303, 8.699475211860817, 9.068779415042506, 8.914801884434043, 8.562131976461275, 3.5402758979101314, 5.890729019756856, 9.496289001051299, 6.793020327560093, 8.934367587473641, 2.147510219418869, 9.6209726850024, 8.940015257656746, 3.95521871856145, 3.1455597523232615, 5.401751801673541, 6.018826811295761, 8.049601654330807, 0.5810762471787945, 6.733516862626777, 9.385884302831217, 4.16250367348976, 9.23581292719064, 7.327400905996054, 3.424219721189661, 8.285341049945846, 4.172036047602274, 7.859112910670396, 6.110454850826597, 9.281852081177528, 3.3771296241032234, 8.49924043040328, 3.0280885512235267, 0.7339464255518025, 7.568217988917604, 9.60443991910482, 2.177352533827178, 8.045214231052851, 0.37562170546398876, 9.916892788173705, 8.568856080724498, 2.3659364256710615, 0.45404348615790346, 7.033530492725517, 5.638240660338868, 6.144106674537914, 5.194644833606529, 7.248937443321318, 3.2402514898457637, 8.47030629902502, 7.824843166051809, 7.642230340751384, 8.003568332930527, 8.553349665915988, 5.924600387347474, 9.164509022054494, 3.2238419146559494, 2.128693011377143, 6.013334654199086, 9.671089758674572, 8.23281493445632, 7.3316073046504275, 6.23050036671123, 6.048803305098187, 7.142081179389778, 8.544667473132288, 7.94969696983686, 7.212740504840313, 9.732294772327709, 7.932852293034651, 9.693081958140672, 6.780141262378746, 9.221318809450876, 4.849923997335965, 5.844391707931783, 7.252244788430583, 9.304609702186283, 1.470751369047446, 9.698295727558111, 8.074216435524221, 3.8172573319749956, 9.928217179117576, 2.493463419816413, 1.6276787857042463, 8.932471570406777, 4.486587335456921, 6.7506828018572005, 7.423932810084423, 5.315419364918616, 5.046298707970804, 8.525097076637929, 3.342475567167511, 6.294013685736385, 1.8626900882646413, 3.8966957270413483, 5.0563378301329776, 2.6318556533599646, 4.437756594147142, 8.187316635629609, 6.640409478464468, 9.751812020123138, 9.339663301427374, 5.934680849948193, 8.236704228265639, 5.274336267919722, 5.009407967542439, 4.725222264047241, 6.956056430669941, 8.311475097116283, 6.961970868349101, 9.553871325850189, 7.844877926613262, 4.170864746254036, 3.895826094358222, 3.6361044160784517, 8.510455781308815, 2.6157963860821996, 7.401795550347168, 3.868446698288366, 8.698949507417083, 2.41135626525666, 6.936876846315283, 8.9887460646826, 7.6448803898811, 6.318006743495546, 6.144468341177726, 8.758572350736898, 8.795548295101538, 6.980588111941476, 6.184835283779634, 6.783478111889984, 8.870267590737615]\n"
     ]
    }
   ],
   "source": [
    "# A test function\n",
    "def test_func(x,a=1,b=1):\n",
    "    return abs(a*x+b)\n",
    "\n",
    "solution = generate_function(test_func, 0, 10, N = 1000)\n",
    "print(solution)"
   ]
  },
  {
   "cell_type": "code",
   "execution_count": 377,
   "metadata": {},
   "outputs": [
    {
     "name": "stdout",
     "output_type": "stream",
     "text": [
      "[0.1, 0.6] : #########\n",
      "[0.6, 1.1] : ########\n",
      "[1.1, 1.6] : ################\n",
      "[1.6, 2.1] : ##################\n",
      "[2.1, 2.6] : #######################################\n",
      "[2.6, 3.1] : #####################################\n",
      "[3.1, 3.5] : #####################################\n",
      "[3.5, 4.0] : ########################################\n",
      "[4.0, 4.5] : ###############################################\n",
      "[4.5, 5.0] : ###########################################\n",
      "[5.0, 5.5] : ###############################################\n",
      "[5.5, 6.0] : #################################################\n",
      "[6.0, 6.5] : ##############################################\n",
      "[6.5, 7.0] : ##################################################\n",
      "[7.0, 7.5] : ##################################################\n",
      "[7.5, 8.0] : ##################################################\n",
      "[8.0, 8.5] : ##################################################\n",
      "[8.5, 9.0] : ##################################################\n",
      "[9.0, 9.5] : ##################################################\n",
      "[9.5, 10.0] : ##################################################\n"
     ]
    }
   ],
   "source": [
    "draw_histogram(solution, 20, character=\"#\", max_character_per_line=50)"
   ]
  },
  {
   "cell_type": "markdown",
   "metadata": {},
   "source": [
    "*Exercise 8:* Use your function to generate 1000 numbers that are normal distributed, using the `gaussian` function below. Confirm the mean and variance of the data is close to the mean and variance you specify when building the Gaussian. Histogram the data. "
   ]
  },
  {
   "cell_type": "code",
   "execution_count": 378,
   "metadata": {},
   "outputs": [],
   "source": [
    "import math\n",
    "\n",
    "def gaussian(mean, sigma):\n",
    "    def f(x):\n",
    "        return math.exp(-((x-mean)**2)/(2*sigma**2))/math.sqrt(math.pi*sigma)\n",
    "    return f\n",
    "\n",
    "# Example Instantiation\n",
    "g1=gaussian(0,1)\n",
    "g2=gaussian(10,3)"
   ]
  },
  {
   "cell_type": "code",
   "execution_count": 388,
   "metadata": {},
   "outputs": [
    {
     "name": "stdout",
     "output_type": "stream",
     "text": [
      "Example 1 mean: 0 vs generate_function mean: 0.795290100510453\n",
      "Example 1 variance: 1 vs generate_function variance: -0.650975899193185\n",
      "Example 2 mean: 10 vs generate_function mean: 8.751652593739637\n",
      "Example 2 variance: 3 vs generate_function variance: 3.858458024689657\n"
     ]
    }
   ],
   "source": [
    "example1 = generate_function(g1, 0, 12, N = 1000)\n",
    "example2 = generate_function(g2, 0, 12, N = 1000)\n",
    "\n",
    "print(f\"Example 1 mean: 0 vs generate_function mean: {mean(example1)}\")\n",
    "print(f\"Example 1 variance: 1 vs generate_function variance: {variance(example1)}\")\n",
    "print(f\"Example 2 mean: 10 vs generate_function mean: {mean(example2)}\")\n",
    "print(f\"Example 2 variance: 3 vs generate_function variance: {variance(example2)}\")"
   ]
  },
  {
   "cell_type": "code",
   "execution_count": 380,
   "metadata": {
    "scrolled": true
   },
   "outputs": [
    {
     "name": "stdout",
     "output_type": "stream",
     "text": [
      "Example 1 Histogram\n",
      "[0.0, 0.3] : ##################################################\n",
      "[0.3, 0.7] : ##################################################\n",
      "[0.7, 1.0] : ##################################################\n",
      "[1.0, 1.4] : ##################################################\n",
      "[1.4, 1.7] : ##################################################\n",
      "[1.7, 2.1] : ###############################\n",
      "[2.1, 2.4] : #####################\n",
      "[2.4, 2.8] : ######\n",
      "[2.8, 3.1] : ######\n",
      "[3.1, 3.5] : #\n",
      "\n",
      "Example 2 Histogram\n",
      "[1.1, 2.2] : #####\n",
      "[2.2, 3.3] : ###########\n",
      "[3.3, 4.4] : ##############################\n",
      "[4.4, 5.5] : ##################################################\n",
      "[5.5, 6.6] : ##################################################\n",
      "[6.6, 7.7] : ##################################################\n",
      "[7.7, 8.7] : ##################################################\n",
      "[8.7, 9.8] : ##################################################\n",
      "[9.8, 10.9] : ##################################################\n",
      "[10.9, 12.0] : ##################################################\n"
     ]
    }
   ],
   "source": [
    "print(\"Example 1 Histogram\")\n",
    "draw_histogram(example1, 10, character=\"#\", max_character_per_line=50)\n",
    "print(\"\\nExample 2 Histogram\")\n",
    "draw_histogram(example2, 10, character=\"#\", max_character_per_line=50)"
   ]
  },
  {
   "cell_type": "markdown",
   "metadata": {},
   "source": [
    "*Exercise 9:* Combine your `generate_function`, `where`, and `in_range` functions above to create an integrate function. Use your integrate function to show that approximately 68% of Normal distribution is within one variance."
   ]
  },
  {
   "cell_type": "code",
   "execution_count": 381,
   "metadata": {},
   "outputs": [],
   "source": [
    "def integrate(func, x_min, x_max, n_points=1000):\n",
    "    generated_points = generate_function(func, x_min, x_max, n_points)\n",
    "    points_under_curve = 0\n",
    "    \n",
    "    f_min = find_min_0(func, x_min, x_max, steps=100)\n",
    "    f_max = find_max_0(func, x_min, x_max, steps=100)\n",
    "    \n",
    "    y_values = generate_uniform(n_points, f_min, f_max)\n",
    "    valid_points = where(generated_points, in_range(x_min, x_max))\n",
    "    \n",
    "    for i in valid_points:\n",
    "        if y_values[i] < func(generated_points[i]):\n",
    "            points_under_curve += 1\n",
    "    \n",
    "    integral = ((x_max - x_min) * (f_max - f_min)) * (points_under_curve / n_points)\n",
    "\n",
    "    return round(integral,2)"
   ]
  },
  {
   "cell_type": "code",
   "execution_count": 382,
   "metadata": {},
   "outputs": [
    {
     "name": "stdout",
     "output_type": "stream",
     "text": [
      "0.48\n"
     ]
    }
   ],
   "source": [
    "def normal_distribution(x, mu=0, sigma=1): #mu = mean and sigma = standard deviation\n",
    "    pi = 3.14159\n",
    "    e = 2.71828\n",
    "    sqrt_2pi=(2 * pi)**0.5\n",
    "    \n",
    "    first_term = 1 / (sqrt_2pi * sigma)\n",
    "    \n",
    "    exponent=  e ** (-(1/2) * ((x - mu) / sigma) ** 2)\n",
    "    \n",
    "    return first_term * exponent\n",
    "\n",
    "check = integrate(normal_distribution, -1, 1, 1000)\n",
    "print(check)"
   ]
  }
 ],
 "metadata": {
  "kernelspec": {
   "display_name": "Python 3 (ipykernel)",
   "language": "python",
   "name": "python3"
  },
  "language_info": {
   "codemirror_mode": {
    "name": "ipython",
    "version": 3
   },
   "file_extension": ".py",
   "mimetype": "text/x-python",
   "name": "python",
   "nbconvert_exporter": "python",
   "pygments_lexer": "ipython3",
   "version": "3.12.3"
  }
 },
 "nbformat": 4,
 "nbformat_minor": 2
}
