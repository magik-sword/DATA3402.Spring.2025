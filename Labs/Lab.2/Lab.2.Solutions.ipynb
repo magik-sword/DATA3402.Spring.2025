{
 "cells": [
  {
   "cell_type": "markdown",
   "metadata": {},
   "source": [
    "## Lab 2- Tic Tac Toe\n",
    "\n",
    "In this lab your will build a n x n Tic Tac Toe game. As you do the exercises, make sure your solutions work for any size Tic Tac Toe game. "
   ]
  },
  {
   "cell_type": "markdown",
   "metadata": {},
   "source": [
    "*Exercise 1:* Write a function that creates an n by n matrix (of list of lists) which will represent the state of a Tie Tac Toe game. Let 0, 1, and 2 represent empty, \"X\", and \"O\", respectively.\n"
   ]
  },
  {
   "cell_type": "code",
   "execution_count": 328,
   "metadata": {},
   "outputs": [
    {
     "name": "stdout",
     "output_type": "stream",
     "text": [
      "How big do you want the n x n board to be? 5\n"
     ]
    }
   ],
   "source": [
    "n = int(input(\"How big do you want the n x n board to be? \"))\n",
    "\n",
    "def board_state(n):     # n = size\n",
    "    empty = 0\n",
    "    X = 1\n",
    "    O = 2\n",
    "    \n",
    "    board = [[empty]*n for i in range(n)]\n",
    "    \n",
    "    return board"
   ]
  },
  {
   "cell_type": "code",
   "execution_count": 329,
   "metadata": {},
   "outputs": [
    {
     "data": {
      "text/plain": [
       "[[0, 0, 0, 0, 0],\n",
       " [0, 0, 0, 0, 0],\n",
       " [0, 0, 0, 0, 0],\n",
       " [0, 0, 0, 0, 0],\n",
       " [0, 0, 0, 0, 0]]"
      ]
     },
     "execution_count": 329,
     "metadata": {},
     "output_type": "execute_result"
    }
   ],
   "source": [
    "board_state(n)"
   ]
  },
  {
   "cell_type": "markdown",
   "metadata": {},
   "source": [
    "*Exercise 2:* Write a function that takes 2 integers `n` and `m` as input and draws a `n` by `m` game board. For example the following is a 3x3 board:\n",
    "```\n",
    "   --- --- --- \n",
    "  |   |   |   | \n",
    "   --- --- ---  \n",
    "  |   |   |   | \n",
    "   --- --- ---  \n",
    "  |   |   |   | \n",
    "   --- --- --- \n",
    "   ```"
   ]
  },
  {
   "cell_type": "code",
   "execution_count": 330,
   "metadata": {},
   "outputs": [
    {
     "name": "stdout",
     "output_type": "stream",
     "text": [
      "How many rows do you want? 3\n",
      "How many columns do you want? 3\n"
     ]
    }
   ],
   "source": [
    "n = int(input(\"How many rows do you want? \"))\n",
    "m = int(input(\"How many columns do you want? \"))\n",
    "\n",
    "def draw_board(n, m): # n = rows & m = columns\n",
    "    dashes = \" ---\" * m\n",
    "    lines = \"|   \" * m + \"|\"\n",
    "\n",
    "    for i in range(n):\n",
    "        print(dashes)\n",
    "        print(lines)\n",
    "    print(dashes) "
   ]
  },
  {
   "cell_type": "code",
   "execution_count": 331,
   "metadata": {},
   "outputs": [
    {
     "name": "stdout",
     "output_type": "stream",
     "text": [
      " --- --- ---\n",
      "|   |   |   |\n",
      " --- --- ---\n",
      "|   |   |   |\n",
      " --- --- ---\n",
      "|   |   |   |\n",
      " --- --- ---\n"
     ]
    }
   ],
   "source": [
    "draw_board(n,m)"
   ]
  },
  {
   "cell_type": "markdown",
   "metadata": {},
   "source": [
    "*Exercise 3:* Modify exercise 2, so that it takes a matrix of the form from exercise 1 and draws a tic-tac-tie board with \"X\"s and \"O\"s.  "
   ]
  },
  {
   "cell_type": "code",
   "execution_count": 332,
   "metadata": {},
   "outputs": [
    {
     "name": "stdout",
     "output_type": "stream",
     "text": [
      "How big do you want the n x n board to be? 5\n"
     ]
    }
   ],
   "source": [
    "n = int(input(\"How big do you want the n x n board to be? \"))\n",
    "\n",
    "player_1_mark = 'X'\n",
    "player_2_mark = 'O'\n",
    "\n",
    "def draw_board_from_matrix_practice(n):     # n = size\n",
    "    empty = 0\n",
    "    player_1 = 1\n",
    "    player_2 = 2\n",
    "    dashes = ' ---' * n\n",
    "\n",
    "    character_marks= {player_1: player_1_mark, player_2: player_2_mark, empty: ' '}\n",
    "    \n",
    "    board = [[empty]*n for i in range(n)]\n",
    "\n",
    "    for i in range(n):\n",
    "        for j in range(n):\n",
    "            if (i + j)%2==0:\n",
    "                board[i][j]=player_1\n",
    "            else:\n",
    "                board[i][j]=player_2\n",
    "    \n",
    "    for i in range(n):\n",
    "        print(dashes)  \n",
    "        lines = \"|\"\n",
    "        for j in range(n):\n",
    "            lines += f\" {character_marks[board[i][j]]} |\"  \n",
    "        print(lines)  \n",
    "\n",
    "    print(dashes)  "
   ]
  },
  {
   "cell_type": "code",
   "execution_count": 333,
   "metadata": {},
   "outputs": [
    {
     "name": "stdout",
     "output_type": "stream",
     "text": [
      " --- --- --- --- ---\n",
      "| X | O | X | O | X |\n",
      " --- --- --- --- ---\n",
      "| O | X | O | X | O |\n",
      " --- --- --- --- ---\n",
      "| X | O | X | O | X |\n",
      " --- --- --- --- ---\n",
      "| O | X | O | X | O |\n",
      " --- --- --- --- ---\n",
      "| X | O | X | O | X |\n",
      " --- --- --- --- ---\n"
     ]
    }
   ],
   "source": [
    "draw_board_from_matrix_practice(n)"
   ]
  },
  {
   "cell_type": "markdown",
   "metadata": {},
   "source": [
    "*Exercise 4:* Write a function that takes a `n` by `n` matrix representing a tic-tac-toe game, and returns -1, 0, 1, or 2 indicating the game is incomplete, the game is a draw, player 1 has won, or player 2 has one, respectively. Here are some example inputs you can use to test your code:"
   ]
  },
  {
   "cell_type": "code",
   "execution_count": 334,
   "metadata": {},
   "outputs": [],
   "source": [
    "def transpose(M):\n",
    "    rows = len(M)\n",
    "    columns = len(M[0])\n",
    "    out = [[0]*rows for _ in range(columns)]  # Allows columns to be checked\n",
    "      \n",
    "    for i in range(rows):\n",
    "        for j in range(columns):\n",
    "            out[j][i] = M[i][j]\n",
    "            \n",
    "    return out\n",
    "\n",
    "def all_same(list):\n",
    "    if len(list) == 0:\n",
    "        return False        # Checks rows\n",
    "    for item in list:\n",
    "        if list[0] != item:\n",
    "            return False\n",
    "    return list[0]\n",
    "\n",
    "def check_diagonals(matrix):\n",
    "    n = len(matrix)\n",
    "    out_1 = list()\n",
    "    out_2 = list()\n",
    "    \n",
    "    for i in range(n):              # Checks diagonals\n",
    "        out_1.append(matrix[i][i])\n",
    "        out_2.append(matrix[i][n-i-1])\n",
    "    return [out_1,out_2]\n",
    "\n",
    "def check_game_status(matrix):\n",
    "    for row in matrix:\n",
    "        winner = all_same(row)\n",
    "        if winner == 1:\n",
    "            return \"Player 1 wins!\"\n",
    "        elif winner == 2:\n",
    "            return \"Player 2 wins!\"\n",
    "    \n",
    "    for column in transpose(matrix):\n",
    "        winner = all_same(column)\n",
    "        if winner == 1:\n",
    "            return \"Player 1 wins!\"\n",
    "        elif winner == 2:\n",
    "            return \"Player 2 wins!\"\n",
    "        \n",
    "    for diagonal in check_diagonals(matrix):\n",
    "        winner = all_same(diagonal)\n",
    "        if winner == 1:\n",
    "            return \"Player 1 wins!\"\n",
    "        elif winner == 2:\n",
    "            return \"Player 2 wins!\"\n",
    "        \n",
    "    if any(0 in row for row in matrix):\n",
    "        return \"The game is incomplete!\"\n",
    "\n",
    "    return \"It's a tie!\""
   ]
  },
  {
   "cell_type": "code",
   "execution_count": 335,
   "metadata": {},
   "outputs": [
    {
     "data": {
      "text/plain": [
       "'Player 2 wins!'"
      ]
     },
     "execution_count": 335,
     "metadata": {},
     "output_type": "execute_result"
    }
   ],
   "source": [
    "winner_is_2 = [[2, 2, 0],\n",
    "\t[2, 1, 0],\n",
    "\t[2, 1, 1]]\n",
    "check_game_status(winner_is_2)"
   ]
  },
  {
   "cell_type": "code",
   "execution_count": 336,
   "metadata": {},
   "outputs": [],
   "source": [
    "winner_is_2 = [[2, 2, 0],\n",
    "\t[2, 1, 0],\n",
    "\t[2, 1, 1]]\n",
    "\n",
    "winner_is_1 = [[1, 2, 0],\n",
    "\t[2, 1, 0],\n",
    "\t[2, 1, 1]]\n",
    "\n",
    "winner_is_also_1 = [[0, 1, 0],\n",
    "\t[2, 1, 0],\n",
    "\t[2, 1, 1]]\n",
    "\n",
    "no_winner = [[1, 2, 0],\n",
    "\t[2, 1, 0],\n",
    "\t[2, 1, 2]]\n",
    "\n",
    "also_no_winner = [[1, 2, 0],\n",
    "\t[2, 1, 0],\n",
    "\t[2, 1, 0]]"
   ]
  },
  {
   "cell_type": "markdown",
   "metadata": {},
   "source": [
    "*Exercise 5:* Write a function that takes a game board, player number, and `(x,y)` coordinates and places \"X\" or \"O\" in the correct location of the game board. Make sure that you only allow filling previously empty locations. Return `True` or `False` to indicate successful placement of \"X\" or \"O\"."
   ]
  },
  {
   "cell_type": "code",
   "execution_count": 337,
   "metadata": {},
   "outputs": [],
   "source": [
    "def draw_board(board):   \n",
    "    n = len(board)\n",
    "    empty = 0\n",
    "    player_1 = 1\n",
    "    player_2 = 2\n",
    "    dashes = ' ---' * n\n",
    "\n",
    "    character_marks= {player_1: player_1_mark, player_2: player_2_mark, empty: ' '}\n",
    "    \n",
    "    for i in range(n):\n",
    "        print(dashes)  \n",
    "        lines = \"|\"\n",
    "        for j in range(n):\n",
    "            lines += f\" {character_marks[board[i][j]]} |\"  \n",
    "        print(lines)  \n",
    "\n",
    "    print(dashes)\n",
    "\n",
    "def coordinate_placement(board, player, x, y):\n",
    "    if x < 0 or x >= len(board) or y < 0 or y >= len(board):\n",
    "        print(\"Location doesn't exist. Try new coordinates\")\n",
    "        return False\n",
    "    \n",
    "    if board[x][y] == 0:\n",
    "        board[x][y] = player\n",
    "        return True\n",
    "    else:\n",
    "        print(\"Choose another space.\")\n",
    "        return False\n",
    "    \n",
    "    return board"
   ]
  },
  {
   "cell_type": "code",
   "execution_count": 340,
   "metadata": {},
   "outputs": [
    {
     "name": "stdout",
     "output_type": "stream",
     "text": [
      "    1   2   3   4\n",
      "   --- --- --- ---\n",
      "A |   |   |   |   |\n",
      "   --- --- --- ---\n",
      "B |   | X |   |   |\n",
      "   --- --- --- ---\n",
      "C |   |   |   |   |\n",
      "   --- --- --- ---\n",
      "D |   |   |   |   |\n",
      "   --- --- --- ---\n"
     ]
    }
   ],
   "source": [
    "board = board_state(4)  \n",
    "coordinate_placement(board, player_1, 1, 1)  \n",
    "draw_board(board)   "
   ]
  },
  {
   "cell_type": "markdown",
   "metadata": {},
   "source": [
    "*Exercise 6:* Modify Exercise 3 to show column and row labels so that players can specify location using \"A2\" or \"C1\"."
   ]
  },
  {
   "cell_type": "code",
   "execution_count": 341,
   "metadata": {},
   "outputs": [],
   "source": [
    "def draw_board(board):   \n",
    "    n = len(board)\n",
    "    \n",
    "    row_names=list(\"ABCDEFGHIJKLMNOPQRSTUVWXYZ\")\n",
    "    row_map=dict(zip(row_names,range(n)))\n",
    "    \n",
    "    column_names=list(map(str,range(1, n + 1)))\n",
    "    column_map=dict(zip(column_names,range(n)))\n",
    "    \n",
    "    empty = 0\n",
    "    player_1 = 1\n",
    "    player_2 = 2\n",
    "    dashes = ' ---' * n\n",
    "\n",
    "    character_marks= {player_1: player_1_mark, player_2: player_2_mark, empty: ' '}\n",
    "    \n",
    "    print(\"    \" + \"   \".join(column_names))  \n",
    "    print(\"  \" + dashes)  \n",
    "\n",
    "    for i in range(n):\n",
    "        line = f\"{row_names[i]} |\"  \n",
    "        for j in range(n):\n",
    "            line += f\" {character_marks[board[i][j]]} |\"\n",
    "        print(line)\n",
    "        print(\"  \" + dashes) "
   ]
  },
  {
   "cell_type": "code",
   "execution_count": 342,
   "metadata": {},
   "outputs": [
    {
     "name": "stdout",
     "output_type": "stream",
     "text": [
      "    1   2   3   4\n",
      "   --- --- --- ---\n",
      "A |   |   |   |   |\n",
      "   --- --- --- ---\n",
      "B |   | X |   |   |\n",
      "   --- --- --- ---\n",
      "C |   |   |   |   |\n",
      "   --- --- --- ---\n",
      "D |   |   |   |   |\n",
      "   --- --- --- ---\n"
     ]
    }
   ],
   "source": [
    "board = board_state(4)  \n",
    "coordinate_placement(board, player_1, 1, 1)  \n",
    "draw_board(board)   "
   ]
  },
  {
   "cell_type": "markdown",
   "metadata": {},
   "source": [
    "*Exercise 7:* Write a function that takes a board, player number, and location specified as in exercise 6 and then calls exercise 5 to correctly modify the board.  "
   ]
  },
  {
   "cell_type": "code",
   "execution_count": 343,
   "metadata": {},
   "outputs": [],
   "source": [
    "def make_move(board, player, location):\n",
    "    n = len(board)\n",
    "    row_names = list(\"ABCDEFGHIJKLMNOPQRSTUVWXYZ\")[:n] \n",
    "    row_map = dict(zip(row_names, range(n)))  \n",
    "\n",
    "    column_names = list(map(str, range(1, n + 1)))  \n",
    "    column_map = dict(zip(column_names, range(n)))  \n",
    "\n",
    "    if location[0] in row_map and location[1:] in column_map:\n",
    "        x = row_map[location[0]]  \n",
    "        y = column_map[location[1:]]  \n",
    "    else:\n",
    "        print(\"Invalid coordinates. Try again!\")\n",
    "        return board  \n",
    "    \n",
    "    updated_coordinates = coordinate_placement(board, player, x, y)\n",
    "    \n",
    "    return updated_coordinates"
   ]
  },
  {
   "cell_type": "code",
   "execution_count": 344,
   "metadata": {},
   "outputs": [
    {
     "name": "stdout",
     "output_type": "stream",
     "text": [
      "    1   2   3   4\n",
      "   --- --- --- ---\n",
      "A |   |   |   |   |\n",
      "   --- --- --- ---\n",
      "B |   |   |   |   |\n",
      "   --- --- --- ---\n",
      "C |   |   |   |   |\n",
      "   --- --- --- ---\n",
      "D | X |   |   |   |\n",
      "   --- --- --- ---\n"
     ]
    }
   ],
   "source": [
    "board = board_state(4)    \n",
    "make_move(board, player_1, 'D1')\n",
    "draw_board(board) "
   ]
  },
  {
   "cell_type": "markdown",
   "metadata": {},
   "source": [
    "*Exercise 8:* Write a function is called with a board and player number, takes input from the player using python's `input`, and modifies the board using your function from exercise 7. Note that you should keep asking for input until you have gotten a valid input that results in a valid move."
   ]
  },
  {
   "cell_type": "code",
   "execution_count": 345,
   "metadata": {},
   "outputs": [],
   "source": [
    "def player_input(board, player):\n",
    "    n = len(board)\n",
    "    row_names = list(\"ABCDEFGHIJKLMNOPQRSTUVWXYZ\")[:n] \n",
    "    row_map = dict(zip(row_names, range(n)))\n",
    "    column_names = list(map(str, range(1, n + 1)))  \n",
    "    column_map = dict(zip(column_names, range(n)))  \n",
    "    \n",
    "    while True:\n",
    "        location = input(\"Choose a move: \")\n",
    "        if location[0] not in row_map or location[1:] not in column_map:\n",
    "            print(\"Please pick a valid move.\")\n",
    "            continue\n",
    "        \n",
    "        x = row_map[location[0]]  \n",
    "        y = column_map[location[1:]]\n",
    "        \n",
    "        player_move = make_move(board, player, location)\n",
    "    \n",
    "        if player_move:\n",
    "            break"
   ]
  },
  {
   "cell_type": "code",
   "execution_count": 346,
   "metadata": {},
   "outputs": [
    {
     "name": "stdout",
     "output_type": "stream",
     "text": [
      "Choose a move: A2\n",
      "    1   2   3   4\n",
      "   --- --- --- ---\n",
      "A |   | X |   |   |\n",
      "   --- --- --- ---\n",
      "B |   |   |   |   |\n",
      "   --- --- --- ---\n",
      "C |   |   |   |   |\n",
      "   --- --- --- ---\n",
      "D |   |   |   |   |\n",
      "   --- --- --- ---\n"
     ]
    }
   ],
   "source": [
    "board = board_state(4)   \n",
    "player_input(board, player_1)\n",
    "draw_board(board) "
   ]
  },
  {
   "cell_type": "markdown",
   "metadata": {},
   "source": [
    "*Exercise 9:* Use all of the previous exercises to implement a full tic-tac-toe game, where an appropriate board is drawn, 2 players are repeatedly asked for a location coordinates of where they wish to place a mark, and the game status is checked until a player wins or a draw occurs."
   ]
  },
  {
   "cell_type": "code",
   "execution_count": 325,
   "metadata": {},
   "outputs": [],
   "source": [
    "def tic_tac_toe_game():\n",
    "    n = int(input(\"How big do you want the (n x n) board? \"))\n",
    "    board = board_state(n)\n",
    "\n",
    "    player_turn = input(\"Choose which player goes first (1 or 2): \")\n",
    "\n",
    "    if player_turn == '1':\n",
    "        player = player_1\n",
    "    else:\n",
    "        player = player_2\n",
    "\n",
    "    while True: \n",
    "        draw_board(board)\n",
    "\n",
    "        print(\"Player\", player)\n",
    "        player_input(board, player)\n",
    "\n",
    "        status = check_game_status(board)\n",
    "        if status != \"The game is incomplete!\":\n",
    "            draw_board(board)  \n",
    "            print(status)  \n",
    "            break  \n",
    "\n",
    "        if player == player_1:\n",
    "            player = player_2\n",
    "        else:\n",
    "            player = player_1"
   ]
  },
  {
   "cell_type": "code",
   "execution_count": 326,
   "metadata": {},
   "outputs": [
    {
     "name": "stdout",
     "output_type": "stream",
     "text": [
      "How big do you want the (n x n) board? 3\n",
      "Choose which player goes first (1 or 2): 1\n",
      "    1   2   3\n",
      "   --- --- ---\n",
      "A |   |   |   |\n",
      "   --- --- ---\n",
      "B |   |   |   |\n",
      "   --- --- ---\n",
      "C |   |   |   |\n",
      "   --- --- ---\n",
      "Player 1\n",
      "Choose a move: A1\n",
      "    1   2   3\n",
      "   --- --- ---\n",
      "A | X |   |   |\n",
      "   --- --- ---\n",
      "B |   |   |   |\n",
      "   --- --- ---\n",
      "C |   |   |   |\n",
      "   --- --- ---\n",
      "Player 2\n",
      "Choose a move: B2\n",
      "    1   2   3\n",
      "   --- --- ---\n",
      "A | X |   |   |\n",
      "   --- --- ---\n",
      "B |   | O |   |\n",
      "   --- --- ---\n",
      "C |   |   |   |\n",
      "   --- --- ---\n",
      "Player 1\n",
      "Choose a move: A2\n",
      "    1   2   3\n",
      "   --- --- ---\n",
      "A | X | X |   |\n",
      "   --- --- ---\n",
      "B |   | O |   |\n",
      "   --- --- ---\n",
      "C |   |   |   |\n",
      "   --- --- ---\n",
      "Player 2\n",
      "Choose a move: B1\n",
      "    1   2   3\n",
      "   --- --- ---\n",
      "A | X | X |   |\n",
      "   --- --- ---\n",
      "B | O | O |   |\n",
      "   --- --- ---\n",
      "C |   |   |   |\n",
      "   --- --- ---\n",
      "Player 1\n",
      "Choose a move: A3\n",
      "    1   2   3\n",
      "   --- --- ---\n",
      "A | X | X | X |\n",
      "   --- --- ---\n",
      "B | O | O |   |\n",
      "   --- --- ---\n",
      "C |   |   |   |\n",
      "   --- --- ---\n",
      "Player 1 wins!\n"
     ]
    }
   ],
   "source": [
    "tic_tac_toe_game()"
   ]
  },
  {
   "cell_type": "markdown",
   "metadata": {},
   "source": [
    "*Exercise 10:* Test that your game works for 5x5 Tic Tac Toe.  "
   ]
  },
  {
   "cell_type": "code",
   "execution_count": 327,
   "metadata": {},
   "outputs": [
    {
     "name": "stdout",
     "output_type": "stream",
     "text": [
      "How big do you want the (n x n) board? 5\n",
      "Choose which player goes first (1 or 2): 1\n",
      "    1   2   3   4   5\n",
      "   --- --- --- --- ---\n",
      "A |   |   |   |   |   |\n",
      "   --- --- --- --- ---\n",
      "B |   |   |   |   |   |\n",
      "   --- --- --- --- ---\n",
      "C |   |   |   |   |   |\n",
      "   --- --- --- --- ---\n",
      "D |   |   |   |   |   |\n",
      "   --- --- --- --- ---\n",
      "E |   |   |   |   |   |\n",
      "   --- --- --- --- ---\n",
      "Player 1\n",
      "Choose a move: C3\n",
      "    1   2   3   4   5\n",
      "   --- --- --- --- ---\n",
      "A |   |   |   |   |   |\n",
      "   --- --- --- --- ---\n",
      "B |   |   |   |   |   |\n",
      "   --- --- --- --- ---\n",
      "C |   |   | X |   |   |\n",
      "   --- --- --- --- ---\n",
      "D |   |   |   |   |   |\n",
      "   --- --- --- --- ---\n",
      "E |   |   |   |   |   |\n",
      "   --- --- --- --- ---\n",
      "Player 2\n",
      "Choose a move: B3\n",
      "    1   2   3   4   5\n",
      "   --- --- --- --- ---\n",
      "A |   |   |   |   |   |\n",
      "   --- --- --- --- ---\n",
      "B |   |   | O |   |   |\n",
      "   --- --- --- --- ---\n",
      "C |   |   | X |   |   |\n",
      "   --- --- --- --- ---\n",
      "D |   |   |   |   |   |\n",
      "   --- --- --- --- ---\n",
      "E |   |   |   |   |   |\n",
      "   --- --- --- --- ---\n",
      "Player 1\n",
      "Choose a move: B4\n",
      "    1   2   3   4   5\n",
      "   --- --- --- --- ---\n",
      "A |   |   |   |   |   |\n",
      "   --- --- --- --- ---\n",
      "B |   |   | O | X |   |\n",
      "   --- --- --- --- ---\n",
      "C |   |   | X |   |   |\n",
      "   --- --- --- --- ---\n",
      "D |   |   |   |   |   |\n",
      "   --- --- --- --- ---\n",
      "E |   |   |   |   |   |\n",
      "   --- --- --- --- ---\n",
      "Player 2\n",
      "Choose a move: B4\n",
      "Choose another space.\n",
      "Choose a move: B7\n",
      "Please pick a valid move.\n",
      "Choose a move: BB\n",
      "Please pick a valid move.\n",
      "Choose a move: B-0\n",
      "Please pick a valid move.\n",
      "Choose a move: A5\n",
      "    1   2   3   4   5\n",
      "   --- --- --- --- ---\n",
      "A |   |   |   |   | O |\n",
      "   --- --- --- --- ---\n",
      "B |   |   | O | X |   |\n",
      "   --- --- --- --- ---\n",
      "C |   |   | X |   |   |\n",
      "   --- --- --- --- ---\n",
      "D |   |   |   |   |   |\n",
      "   --- --- --- --- ---\n",
      "E |   |   |   |   |   |\n",
      "   --- --- --- --- ---\n",
      "Player 1\n",
      "Choose a move: C4\n",
      "    1   2   3   4   5\n",
      "   --- --- --- --- ---\n",
      "A |   |   |   |   | O |\n",
      "   --- --- --- --- ---\n",
      "B |   |   | O | X |   |\n",
      "   --- --- --- --- ---\n",
      "C |   |   | X | X |   |\n",
      "   --- --- --- --- ---\n",
      "D |   |   |   |   |   |\n",
      "   --- --- --- --- ---\n",
      "E |   |   |   |   |   |\n",
      "   --- --- --- --- ---\n",
      "Player 2\n",
      "Choose a move: E5\n",
      "    1   2   3   4   5\n",
      "   --- --- --- --- ---\n",
      "A |   |   |   |   | O |\n",
      "   --- --- --- --- ---\n",
      "B |   |   | O | X |   |\n",
      "   --- --- --- --- ---\n",
      "C |   |   | X | X |   |\n",
      "   --- --- --- --- ---\n",
      "D |   |   |   |   |   |\n",
      "   --- --- --- --- ---\n",
      "E |   |   |   |   | O |\n",
      "   --- --- --- --- ---\n",
      "Player 1\n",
      "Choose a move: D4\n",
      "    1   2   3   4   5\n",
      "   --- --- --- --- ---\n",
      "A |   |   |   |   | O |\n",
      "   --- --- --- --- ---\n",
      "B |   |   | O | X |   |\n",
      "   --- --- --- --- ---\n",
      "C |   |   | X | X |   |\n",
      "   --- --- --- --- ---\n",
      "D |   |   |   | X |   |\n",
      "   --- --- --- --- ---\n",
      "E |   |   |   |   | O |\n",
      "   --- --- --- --- ---\n",
      "Player 2\n",
      "Choose a move: A4\n",
      "    1   2   3   4   5\n",
      "   --- --- --- --- ---\n",
      "A |   |   |   | O | O |\n",
      "   --- --- --- --- ---\n",
      "B |   |   | O | X |   |\n",
      "   --- --- --- --- ---\n",
      "C |   |   | X | X |   |\n",
      "   --- --- --- --- ---\n",
      "D |   |   |   | X |   |\n",
      "   --- --- --- --- ---\n",
      "E |   |   |   |   | O |\n",
      "   --- --- --- --- ---\n",
      "Player 1\n",
      "Choose a move: A1\n",
      "    1   2   3   4   5\n",
      "   --- --- --- --- ---\n",
      "A | X |   |   | O | O |\n",
      "   --- --- --- --- ---\n",
      "B |   |   | O | X |   |\n",
      "   --- --- --- --- ---\n",
      "C |   |   | X | X |   |\n",
      "   --- --- --- --- ---\n",
      "D |   |   |   | X |   |\n",
      "   --- --- --- --- ---\n",
      "E |   |   |   |   | O |\n",
      "   --- --- --- --- ---\n",
      "Player 2\n",
      "Choose a move: C5\n",
      "    1   2   3   4   5\n",
      "   --- --- --- --- ---\n",
      "A | X |   |   | O | O |\n",
      "   --- --- --- --- ---\n",
      "B |   |   | O | X |   |\n",
      "   --- --- --- --- ---\n",
      "C |   |   | X | X | O |\n",
      "   --- --- --- --- ---\n",
      "D |   |   |   | X |   |\n",
      "   --- --- --- --- ---\n",
      "E |   |   |   |   | O |\n",
      "   --- --- --- --- ---\n",
      "Player 1\n",
      "Choose a move: B1\n",
      "    1   2   3   4   5\n",
      "   --- --- --- --- ---\n",
      "A | X |   |   | O | O |\n",
      "   --- --- --- --- ---\n",
      "B | X |   | O | X |   |\n",
      "   --- --- --- --- ---\n",
      "C |   |   | X | X | O |\n",
      "   --- --- --- --- ---\n",
      "D |   |   |   | X |   |\n",
      "   --- --- --- --- ---\n",
      "E |   |   |   |   | O |\n",
      "   --- --- --- --- ---\n",
      "Player 2\n",
      "Choose a move: B5\n",
      "    1   2   3   4   5\n",
      "   --- --- --- --- ---\n",
      "A | X |   |   | O | O |\n",
      "   --- --- --- --- ---\n",
      "B | X |   | O | X | O |\n",
      "   --- --- --- --- ---\n",
      "C |   |   | X | X | O |\n",
      "   --- --- --- --- ---\n",
      "D |   |   |   | X |   |\n",
      "   --- --- --- --- ---\n",
      "E |   |   |   |   | O |\n",
      "   --- --- --- --- ---\n",
      "Player 1\n",
      "Choose a move: D5\n",
      "    1   2   3   4   5\n",
      "   --- --- --- --- ---\n",
      "A | X |   |   | O | O |\n",
      "   --- --- --- --- ---\n",
      "B | X |   | O | X | O |\n",
      "   --- --- --- --- ---\n",
      "C |   |   | X | X | O |\n",
      "   --- --- --- --- ---\n",
      "D |   |   |   | X | X |\n",
      "   --- --- --- --- ---\n",
      "E |   |   |   |   | O |\n",
      "   --- --- --- --- ---\n",
      "Player 2\n",
      "Choose a move: E2\n",
      "    1   2   3   4   5\n",
      "   --- --- --- --- ---\n",
      "A | X |   |   | O | O |\n",
      "   --- --- --- --- ---\n",
      "B | X |   | O | X | O |\n",
      "   --- --- --- --- ---\n",
      "C |   |   | X | X | O |\n",
      "   --- --- --- --- ---\n",
      "D |   |   |   | X | X |\n",
      "   --- --- --- --- ---\n",
      "E |   | O |   |   | O |\n",
      "   --- --- --- --- ---\n",
      "Player 1\n",
      "Choose a move: D1\n",
      "    1   2   3   4   5\n",
      "   --- --- --- --- ---\n",
      "A | X |   |   | O | O |\n",
      "   --- --- --- --- ---\n",
      "B | X |   | O | X | O |\n",
      "   --- --- --- --- ---\n",
      "C |   |   | X | X | O |\n",
      "   --- --- --- --- ---\n",
      "D | X |   |   | X | X |\n",
      "   --- --- --- --- ---\n",
      "E |   | O |   |   | O |\n",
      "   --- --- --- --- ---\n",
      "Player 2\n",
      "Choose a move: C1\n",
      "    1   2   3   4   5\n",
      "   --- --- --- --- ---\n",
      "A | X |   |   | O | O |\n",
      "   --- --- --- --- ---\n",
      "B | X |   | O | X | O |\n",
      "   --- --- --- --- ---\n",
      "C | O |   | X | X | O |\n",
      "   --- --- --- --- ---\n",
      "D | X |   |   | X | X |\n",
      "   --- --- --- --- ---\n",
      "E |   | O |   |   | O |\n",
      "   --- --- --- --- ---\n",
      "Player 1\n",
      "Choose a move: D3\n",
      "    1   2   3   4   5\n",
      "   --- --- --- --- ---\n",
      "A | X |   |   | O | O |\n",
      "   --- --- --- --- ---\n",
      "B | X |   | O | X | O |\n",
      "   --- --- --- --- ---\n",
      "C | O |   | X | X | O |\n",
      "   --- --- --- --- ---\n",
      "D | X |   | X | X | X |\n",
      "   --- --- --- --- ---\n",
      "E |   | O |   |   | O |\n",
      "   --- --- --- --- ---\n",
      "Player 2\n",
      "Choose a move: C2\n",
      "    1   2   3   4   5\n",
      "   --- --- --- --- ---\n",
      "A | X |   |   | O | O |\n",
      "   --- --- --- --- ---\n",
      "B | X |   | O | X | O |\n",
      "   --- --- --- --- ---\n",
      "C | O | O | X | X | O |\n",
      "   --- --- --- --- ---\n",
      "D | X |   | X | X | X |\n",
      "   --- --- --- --- ---\n",
      "E |   | O |   |   | O |\n",
      "   --- --- --- --- ---\n",
      "Player 1\n",
      "Choose a move: D2\n",
      "    1   2   3   4   5\n",
      "   --- --- --- --- ---\n",
      "A | X |   |   | O | O |\n",
      "   --- --- --- --- ---\n",
      "B | X |   | O | X | O |\n",
      "   --- --- --- --- ---\n",
      "C | O | O | X | X | O |\n",
      "   --- --- --- --- ---\n",
      "D | X | X | X | X | X |\n",
      "   --- --- --- --- ---\n",
      "E |   | O |   |   | O |\n",
      "   --- --- --- --- ---\n",
      "Player 1 wins!\n"
     ]
    }
   ],
   "source": [
    "tic_tac_toe_game()"
   ]
  },
  {
   "cell_type": "markdown",
   "metadata": {},
   "source": [
    "*Exercise 11:* (Advanced / Challenge) Develop a version of the game where one player is the computer. Note that you don't need to do an extensive seach for the best move. You can have the computer simply protect against loosing and otherwise try to win with straight or diagonal patterns."
   ]
  },
  {
   "cell_type": "code",
   "execution_count": null,
   "metadata": {
    "collapsed": true
   },
   "outputs": [],
   "source": [
    "# Write you solution here"
   ]
  },
  {
   "cell_type": "code",
   "execution_count": null,
   "metadata": {
    "collapsed": true
   },
   "outputs": [],
   "source": [
    "# Test your solution here"
   ]
  }
 ],
 "metadata": {
  "kernelspec": {
   "display_name": "Python 3 (ipykernel)",
   "language": "python",
   "name": "python3"
  },
  "language_info": {
   "codemirror_mode": {
    "name": "ipython",
    "version": 3
   },
   "file_extension": ".py",
   "mimetype": "text/x-python",
   "name": "python",
   "nbconvert_exporter": "python",
   "pygments_lexer": "ipython3",
   "version": "3.12.3"
  }
 },
 "nbformat": 4,
 "nbformat_minor": 2
}
