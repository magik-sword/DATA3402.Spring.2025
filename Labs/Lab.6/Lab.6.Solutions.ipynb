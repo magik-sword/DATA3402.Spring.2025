{
 "cells": [
  {
   "cell_type": "markdown",
   "metadata": {},
   "source": [
    "# Lab 6"
   ]
  },
  {
   "cell_type": "markdown",
   "metadata": {},
   "source": [
    "You are tasked with evaluating card counting strategies for black jack. In order to do so, you will use object oriented programming to create a playable casino style black jack game where a computer dealer plays against $n$ computer players and possibily one human player. If you don't know the rules of blackjack or card counting, please google it. \n",
    "\n",
    "A few requirements:\n",
    "* The game should utilize multiple 52-card decks. Typically the game is played with 6 decks.\n",
    "* Players should have chips.\n",
    "* Dealer's actions are predefined by rules of the game (typically hit on 16). \n",
    "* The players should be aware of all shown cards so that they can count cards.\n",
    "* Each player could have a different strategy.\n",
    "* The system should allow you to play large numbers of games, study the outcomes, and compare average winnings per hand rate for different strategies."
   ]
  },
  {
   "cell_type": "markdown",
   "metadata": {},
   "source": [
    "1. Begin by creating a classes to represent cards and decks. The deck should support more than one 52-card set. The deck should allow you to shuffle and draw cards. Include a \"plastic\" card, placed randomly in the deck. Later, when the plastic card is dealt, shuffle the cards before the next deal."
   ]
  },
  {
   "cell_type": "code",
   "execution_count": 1,
   "metadata": {},
   "outputs": [],
   "source": [
    "import random\n",
    "\n",
    "# For this black jack game, 6 decks will be used. 312 cards\n",
    "class Card:\n",
    "    def __init__(self, rank, suit):\n",
    "        self.rank = rank\n",
    "        self.suit = suit\n",
    "        self.value = self.determine_value()\n",
    "        \n",
    "    def determine_value(self):\n",
    "        if self.rank == 'Ace':\n",
    "            return 1\n",
    "        elif self.rank in [\"Jack\", \"King\", \"Queen\"]:\n",
    "            return 10\n",
    "        else:\n",
    "            return int(self.rank)\n",
    "    \n",
    "    def __repr__(self):\n",
    "        return f\"{self.rank} of {self.suit}\"\n",
    "        \n",
    "class Deck:\n",
    "    def __init__(self, num_decks = 6):\n",
    "        self.suits = ['Clubs', 'Diamonds', 'Hearts', 'Spades']\n",
    "        self.ranks = ['Ace', '2', '3', '4', '5', '6', '7', '8', '9', '10', 'Jack', 'Queen', 'King']\n",
    "        self.num_decks = num_decks\n",
    "        self.plastic_card = \"Plastic Card\"\n",
    "        self.cards = []\n",
    "    \n",
    "    def shuffle(self):\n",
    "        return random.shuffle(self.cards)\n",
    "    \n",
    "    def make_deck(self):\n",
    "        self.cards = [Card(rank, suit) for i in range(self.num_decks) for suit in self.suits for rank in self.ranks]\n",
    "        self.cards.append(self.plastic_card)\n",
    "        self.shuffle()\n",
    "    \n",
    "    def draw(self):\n",
    "        if len(self.cards) == 0:\n",
    "            print(\"Deck is empty. Creating new deck.\")\n",
    "            self.make_deck()\n",
    "            self.shuffle()\n",
    "            return self.draw()\n",
    "            \n",
    "        while True:\n",
    "            card_drawn = self.cards.pop(0) \n",
    "\n",
    "            if card_drawn == self.plastic_card:\n",
    "                print(\"You drew the plastic card! Reshuffling deck.\")\n",
    "                self.shuffle()\n",
    "                return self.draw()\n",
    "        \n",
    "            else:\n",
    "                return card_drawn\n",
    "        \n",
    "    def get_deck(self):   #Used for test purposes to verify methods are working properly\n",
    "        return self.cards"
   ]
  },
  {
   "cell_type": "code",
   "execution_count": 2,
   "metadata": {},
   "outputs": [
    {
     "name": "stdout",
     "output_type": "stream",
     "text": [
      "53\n",
      "[5 of Hearts, 7 of Diamonds, 4 of Clubs, 4 of Hearts, 6 of Spades, 9 of Hearts, 2 of Diamonds, King of Spades, 'Plastic Card', 6 of Clubs, 9 of Diamonds, Jack of Clubs, 6 of Diamonds, 10 of Clubs, Jack of Spades, King of Hearts, Queen of Diamonds, 5 of Clubs, 2 of Clubs, 4 of Spades, 3 of Hearts, 10 of Hearts, 7 of Clubs, 9 of Spades, 8 of Hearts, 5 of Spades, 2 of Spades, 9 of Clubs, 2 of Hearts, 8 of Spades, 3 of Clubs, 3 of Spades, Ace of Spades, 10 of Diamonds, 8 of Clubs, Queen of Spades, Queen of Hearts, 5 of Diamonds, Jack of Diamonds, King of Diamonds, 10 of Spades, 3 of Diamonds, Ace of Hearts, Ace of Clubs, King of Clubs, Jack of Hearts, 7 of Hearts, 4 of Diamonds, Ace of Diamonds, 7 of Spades, 6 of Hearts, 8 of Diamonds, Queen of Clubs]\n",
      "\n",
      "Shuffled Deck: [6 of Diamonds, 7 of Spades, Queen of Diamonds, King of Spades, 8 of Spades, 10 of Clubs, 3 of Hearts, King of Hearts, 5 of Spades, 6 of Clubs, 5 of Clubs, 5 of Diamonds, Jack of Hearts, 8 of Diamonds, 'Plastic Card', 5 of Hearts, 7 of Clubs, 6 of Spades, Queen of Spades, 8 of Clubs, 2 of Diamonds, Jack of Diamonds, 2 of Spades, 2 of Clubs, Jack of Clubs, 10 of Hearts, 9 of Spades, King of Clubs, 4 of Hearts, 4 of Clubs, King of Diamonds, 3 of Clubs, Ace of Spades, Ace of Hearts, Ace of Clubs, Queen of Hearts, Jack of Spades, 6 of Hearts, 3 of Spades, 10 of Spades, 7 of Diamonds, 3 of Diamonds, 8 of Hearts, 10 of Diamonds, 4 of Spades, 9 of Hearts, 4 of Diamonds, 2 of Hearts, 7 of Hearts, Queen of Clubs, 9 of Diamonds, Ace of Diamonds, 9 of Clubs]\n",
      "\n",
      "\n",
      "6 of Diamonds\n",
      "7 of Spades\n",
      "Queen of Diamonds\n",
      "King of Spades\n",
      "8 of Spades\n",
      "10 of Clubs\n",
      "3 of Hearts\n",
      "King of Hearts\n",
      "5 of Spades\n",
      "6 of Clubs\n",
      "5 of Clubs\n",
      "5 of Diamonds\n",
      "Jack of Hearts\n",
      "8 of Diamonds\n",
      "You drew the plastic card! Reshuffling deck.\n",
      "2 of Spades\n",
      "6 of Spades\n",
      "4 of Clubs\n",
      "9 of Clubs\n",
      "3 of Spades\n",
      "8 of Hearts\n",
      "10 of Hearts\n",
      "3 of Diamonds\n",
      "7 of Diamonds\n",
      "Ace of Clubs\n",
      "9 of Diamonds\n",
      "King of Clubs\n",
      "Jack of Diamonds\n",
      "2 of Clubs\n",
      "10 of Spades\n",
      "3 of Clubs\n"
     ]
    }
   ],
   "source": [
    "x = Deck(num_decks = 1)\n",
    "\n",
    "# Intializing deck\n",
    "x.make_deck()\n",
    "print(len(x.get_deck()))\n",
    "print(x.get_deck())\n",
    "\n",
    "# Shuffling deck\n",
    "x.shuffle()\n",
    "print(\"\\nShuffled Deck:\", x.get_deck())\n",
    "\n",
    "# Drawing cards\n",
    "print(\"\\n\")\n",
    "for i in range(30):\n",
    "    print(x.draw())"
   ]
  },
  {
   "cell_type": "markdown",
   "metadata": {},
   "source": [
    "2. Now design your game on a UML diagram. You may want to create classes to represent, players, a hand, and/or the game. As you work through the lab, update your UML diagram. At the end of the lab, submit your diagram (as pdf file) along with your notebook. "
   ]
  },
  {
   "cell_type": "markdown",
   "metadata": {},
   "source": [
    "3. Begin with implementing the skeleton (ie define data members and methods/functions, but do not code the logic) of the classes in your UML diagram."
   ]
  },
  {
   "cell_type": "code",
   "execution_count": null,
   "metadata": {},
   "outputs": [],
   "source": [
    "class Hand:\n",
    "    def __init__(self):\n",
    "        self.cards=[]\n",
    "\n",
    "    def add_card(self, card): # Adds card to hand\n",
    "    \n",
    "    def hand_value(self): # Calculates values of cards in hand\n",
    "    \n",
    "    def clear_hand(self): # Get rid of cards\n",
    "        \n",
    "class Player:\n",
    "    def __init__(self, name, chips):\n",
    "        self.name = name\n",
    "        self.chips = chips\n",
    "        self.bet = 0\n",
    "    \n",
    "    def name(self): # Name of player\n",
    "    \n",
    "    def chips(self): # Amount of chips a player has\n",
    "    \n",
    "    def place_bet(self, bet): # Place a bet of chips\n",
    "    \n",
    "    def payout(self, chips): # Gain chips\n",
    "\n",
    "    def payup(self, chips): # Lose chips\n",
    "        \n",
    "    def __str__(self): # Converts lines to strings\n",
    "        \n",
    "    def play_hand(self, down_card, up_cards, seen_cards): # Plays your current hand\n",
    "        \n",
    "class DealerPlayer:\n",
    "    def __init__(self,threshold = 16): # Dealer must draw a card when below the threshold\n",
    "        self.__threshold = threshold\n",
    "\n",
    "    def play_hand(self, down_card, up_cards, seen_cards): # Play their hand when they meet or exceed threshold"
   ]
  },
  {
   "cell_type": "markdown",
   "metadata": {},
   "source": [
    "4. Complete the implementation by coding the logic of all functions. For now, just implement the dealer player and human player."
   ]
  },
  {
   "cell_type": "code",
   "execution_count": null,
   "metadata": {},
   "outputs": [],
   "source": [
    "class Player:\n",
    "    def __init__(self, name, chips):\n",
    "        self.name = name\n",
    "        self.chips = chips\n",
    "        self.bet = 0\n",
    "    \n",
    "    def name(self): # Name of player\n",
    "        return self.name\n",
    "    \n",
    "    def chips(self): # Amount of chips a player has\n",
    "        return self.chips\n",
    "    \n",
    "    def place_bet(self, bet_amount): # Place a bet of chips\n",
    "        if self.bet > self.chips:\n",
    "            print(\"Not enough chips to place a bet!\")\n",
    "        else:\n",
    "            self.bet = bet_amount\n",
    "            self.chips -= bet_amount\n",
    "            \n",
    "    def payout(self, chips): # Gain chips\n",
    "\n",
    "    def payup(self, chips): # Lose chips\n",
    "        \n",
    "    def __str__(self): # Converts lines to strings\n",
    "        \n",
    "    def play_hand(self, down_card, up_cards, seen_cards): # Plays your current hand"
   ]
  },
  {
   "cell_type": "markdown",
   "metadata": {},
   "source": [
    "5.  Test. Demonstrate game play. For example, create a game of several dealer players and show that the game is functional through several rounds."
   ]
  },
  {
   "cell_type": "markdown",
   "metadata": {},
   "source": [
    "6. Implement a new player with the following strategy:\n",
    "\n",
    "    * Assign each card a value: \n",
    "        * Cards 2 to 6 are +1 \n",
    "        * Cards 7 to 9 are 0 \n",
    "        * Cards 10 through Ace are -1\n",
    "    * Compute the sum of the values for all cards seen so far.\n",
    "    * Hit if sum is very negative, stay if sum is very positive. Select a threshold for hit/stay, e.g. 0 or -2.  "
   ]
  },
  {
   "cell_type": "markdown",
   "metadata": {},
   "source": [
    "7. Create a test scenario where one player, using the above strategy, is playing with a dealer and 3 other players that follow the dealer's strategy. Each player starts with same number of chips. Play 50 rounds (or until the strategy player is out of money). Compute the strategy player's winnings. You may remove unnecessary printouts from your code (perhaps implement a verbose/quiet mode) to reduce the output."
   ]
  },
  {
   "cell_type": "markdown",
   "metadata": {},
   "source": [
    "8. Create a loop that runs 100 games of 50 rounds, as setup in previous question, and store the strategy player's chips at the end of the game (aka \"winnings\") in a list. Histogram the winnings. What is the average winnings per round? What is the standard deviation. What is the probabilty of net winning or lossing after 50 rounds?\n"
   ]
  },
  {
   "cell_type": "markdown",
   "metadata": {},
   "source": [
    "9. Repeat previous questions scanning the value of the threshold. Try at least 5 different threshold values. Can you find an optimal value?"
   ]
  },
  {
   "cell_type": "markdown",
   "metadata": {},
   "source": [
    "10. Create a new strategy based on web searches or your own ideas. Demonstrate that the new strategy will result in increased or decreased winnings. "
   ]
  }
 ],
 "metadata": {
  "kernelspec": {
   "display_name": "Python 3 (ipykernel)",
   "language": "python",
   "name": "python3"
  },
  "language_info": {
   "codemirror_mode": {
    "name": "ipython",
    "version": 3
   },
   "file_extension": ".py",
   "mimetype": "text/x-python",
   "name": "python",
   "nbconvert_exporter": "python",
   "pygments_lexer": "ipython3",
   "version": "3.12.3"
  }
 },
 "nbformat": 4,
 "nbformat_minor": 4
}
